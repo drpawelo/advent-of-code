{
 "cells": [
  {
   "cell_type": "code",
   "execution_count": 2,
   "id": "61866bcb",
   "metadata": {},
   "outputs": [],
   "source": [
    "def load_file_lines(filename):\n",
    "    lines = []\n",
    "    file = open(filename)\n",
    "    for line in file:\n",
    "        lines.append(line)\n",
    "    file.close()\n",
    "    return lines\n",
    "\n",
    "datas = load_file_lines(\"./pawel.txt\")"
   ]
  },
  {
   "cell_type": "code",
   "execution_count": 8,
   "id": "8a391a12",
   "metadata": {},
   "outputs": [
    {
     "name": "stdout",
     "output_type": "stream",
     "text": [
      "True\n",
      "False\n",
      "False\n"
     ]
    }
   ],
   "source": [
    "def letters_not_repeated(word):\n",
    "    return len(set(word)) == len(word) # lengths of unique letters is same as length of all letters\n",
    "\n",
    "print(letters_not_repeated(\"qwert\"))\n",
    "print(letters_not_repeated(\"qwtert\"))\n",
    "print(letters_not_repeated(\"ababab\"))"
   ]
  },
  {
   "cell_type": "code",
   "execution_count": 6,
   "id": "ba018287",
   "metadata": {},
   "outputs": [
    {
     "data": {
      "text/plain": [
       "{'a', 'b', 'n'}"
      ]
     },
     "execution_count": 6,
     "metadata": {},
     "output_type": "execute_result"
    }
   ],
   "source": [
    "set(\"banana\")"
   ]
  },
  {
   "cell_type": "code",
   "execution_count": 10,
   "id": "27d76e27",
   "metadata": {},
   "outputs": [
    {
     "data": {
      "text/plain": [
       "7"
      ]
     },
     "execution_count": 10,
     "metadata": {},
     "output_type": "execute_result"
    }
   ],
   "source": [
    "def index_after_unique_token(file_line):\n",
    "   \n",
    "    for start_index in range(0,len(file_line)-4):\n",
    "        section = file_line[start_index:(start_index+4)]\n",
    "        if (letters_not_repeated(section)):\n",
    "            return start_index + 4\n",
    "    \n",
    "\n",
    "index_after_unique_token(\"12312345678\")"
   ]
  },
  {
   "cell_type": "code",
   "execution_count": 11,
   "id": "1f85c33a",
   "metadata": {},
   "outputs": [
    {
     "data": {
      "text/plain": [
       "1651"
      ]
     },
     "execution_count": 11,
     "metadata": {},
     "output_type": "execute_result"
    }
   ],
   "source": [
    "index = index_after_unique_token(datas[0])\n",
    "index\n",
    "# "
   ]
  },
  {
   "cell_type": "code",
   "execution_count": null,
   "id": "d129a5ff",
   "metadata": {},
   "outputs": [],
   "source": []
  },
  {
   "cell_type": "code",
   "execution_count": null,
   "id": "c723cbef",
   "metadata": {},
   "outputs": [],
   "source": []
  }
 ],
 "metadata": {
  "kernelspec": {
   "display_name": "Python 3 (ipykernel)",
   "language": "python",
   "name": "python3"
  },
  "language_info": {
   "codemirror_mode": {
    "name": "ipython",
    "version": 3
   },
   "file_extension": ".py",
   "mimetype": "text/x-python",
   "name": "python",
   "nbconvert_exporter": "python",
   "pygments_lexer": "ipython3",
   "version": "3.9.7"
  }
 },
 "nbformat": 4,
 "nbformat_minor": 5
}
