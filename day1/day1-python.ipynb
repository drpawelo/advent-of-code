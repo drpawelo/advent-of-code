{
 "cells": [
  {
   "cell_type": "code",
   "execution_count": 17,
   "id": "128b2fc0",
   "metadata": {},
   "outputs": [
    {
     "data": {
      "text/plain": [
       "[5229,\n",
       " 1021,\n",
       " 2051,\n",
       " 4766,\n",
       " 2272,\n",
       " 5810,\n",
       " 4688,\n",
       " 2324,\n",
       " 2108,\n",
       " 1555,\n",
       " 1221,\n",
       " 4146,\n",
       " 5044,\n",
       " 2238,\n",
       " 4504]"
      ]
     },
     "execution_count": 17,
     "metadata": {},
     "output_type": "execute_result"
    }
   ],
   "source": [
    "def load_file_named():\n",
    "    \n",
    "    elves = []\n",
    "    current_elf_bag = []\n",
    "    file = open(\"./data.txt\")\n",
    "    for current_snack in file:\n",
    "        if current_snack == \"\\n\":\n",
    "            elves.append(current_elf_bag)\n",
    "            current_elf_bag = []\n",
    "        else:\n",
    "            current_elf_bag.append(int(current_snack.strip(\"\\n\")))\n",
    "    \n",
    "    file.close()\n",
    "    return elves\n",
    "\n",
    "all_elves = load_file_named()\n",
    "all_elves[0]"
   ]
  },
  {
   "cell_type": "code",
   "execution_count": 19,
   "id": "442d8de5",
   "metadata": {},
   "outputs": [
    {
     "data": {
      "text/plain": [
       "72017"
      ]
     },
     "execution_count": 19,
     "metadata": {},
     "output_type": "execute_result"
    }
   ],
   "source": [
    "def most_loaded_elf(some_elves):\n",
    "    current_max = 0\n",
    "    for elf in some_elves:\n",
    "        if sum(elf) > current_max:\n",
    "            current_max = sum(elf)\n",
    "    return current_max\n",
    "\n",
    "most_loaded_elf(all_elves)"
   ]
  },
  {
   "cell_type": "code",
   "execution_count": 23,
   "id": "cdccfc64",
   "metadata": {},
   "outputs": [
    {
     "data": {
      "text/plain": [
       "72017"
      ]
     },
     "execution_count": 23,
     "metadata": {},
     "output_type": "execute_result"
    }
   ],
   "source": [
    "def most_loaded_elf_list_comp(some_elves):\n",
    "    elf_totals = [\n",
    "        sum(elf)\n",
    "        for elf in some_elves\n",
    "    ]\n",
    "    return max(elf_totals)\n",
    "    \n",
    "most_loaded_elf_list_comp(all_elves)"
   ]
  },
  {
   "cell_type": "code",
   "execution_count": 34,
   "id": "4604f174",
   "metadata": {},
   "outputs": [
    {
     "data": {
      "text/plain": [
       "212520"
      ]
     },
     "execution_count": 34,
     "metadata": {},
     "output_type": "execute_result"
    }
   ],
   "source": [
    "def top_3_elves(some_elves):\n",
    "    elf_totals = [\n",
    "        sum(elf)\n",
    "        for elf in some_elves\n",
    "    ]\n",
    "    just_top_3 = sorted(elf_totals)[-3:]\n",
    "    return sum(just_top_3)\n",
    "    \n",
    "top_3_elves(all_elves)"
   ]
  },
  {
   "cell_type": "code",
   "execution_count": 30,
   "id": "fec484f5",
   "metadata": {},
   "outputs": [
    {
     "data": {
      "text/plain": [
       "[3, 4, 5, 6]"
      ]
     },
     "execution_count": 30,
     "metadata": {},
     "output_type": "execute_result"
    }
   ],
   "source": [
    "numbers = [1,2,3,4,5,6]\n",
    "numbers[-4:]"
   ]
  },
  {
   "cell_type": "code",
   "execution_count": null,
   "id": "01db1332",
   "metadata": {},
   "outputs": [],
   "source": []
  }
 ],
 "metadata": {
  "kernelspec": {
   "display_name": "Python 3 (ipykernel)",
   "language": "python",
   "name": "python3"
  },
  "language_info": {
   "codemirror_mode": {
    "name": "ipython",
    "version": 3
   },
   "file_extension": ".py",
   "mimetype": "text/x-python",
   "name": "python",
   "nbconvert_exporter": "python",
   "pygments_lexer": "ipython3",
   "version": "3.9.7"
  }
 },
 "nbformat": 4,
 "nbformat_minor": 5
}
