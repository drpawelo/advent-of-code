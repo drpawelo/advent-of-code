{
 "cells": [
  {
   "cell_type": "code",
   "execution_count": 7,
   "id": "bc5b158a",
   "metadata": {},
   "outputs": [],
   "source": [
    "def load_file_lines(filename):\n",
    "    lines = []\n",
    "    file = open(filename)\n",
    "    for line in file:\n",
    "        lines.append(line)\n",
    "    file.close()\n",
    "    return lines\n",
    "\n",
    "datas = load_file_lines(\"./pawel.txt\")"
   ]
  },
  {
   "cell_type": "code",
   "execution_count": 10,
   "id": "0383cfe1",
   "metadata": {},
   "outputs": [],
   "source": [
    "def elves_snacks(many_lines):\n",
    "    elves = []\n",
    "    current_elf_bag = []\n",
    "    for current_snack in many_lines:\n",
    "        if current_snack == \"\\n\":\n",
    "            elves.append(current_elf_bag)\n",
    "            current_elf_bag = []\n",
    "        else:\n",
    "            current_elf_bag.append(int(current_snack.strip(\"\\n\")))\n",
    "    \n",
    "    return elves"
   ]
  },
  {
   "cell_type": "code",
   "execution_count": 12,
   "id": "1f8ad62b",
   "metadata": {},
   "outputs": [
    {
     "data": {
      "text/plain": [
       "[5229,\n",
       " 1021,\n",
       " 2051,\n",
       " 4766,\n",
       " 2272,\n",
       " 5810,\n",
       " 4688,\n",
       " 2324,\n",
       " 2108,\n",
       " 1555,\n",
       " 1221,\n",
       " 4146,\n",
       " 5044,\n",
       " 2238,\n",
       " 4504]"
      ]
     },
     "execution_count": 12,
     "metadata": {},
     "output_type": "execute_result"
    }
   ],
   "source": [
    "all_elves = elves_snacks(datas)\n",
    "all_elves[0] # first elf pack"
   ]
  },
  {
   "cell_type": "code",
   "execution_count": 20,
   "id": "442d8de5",
   "metadata": {},
   "outputs": [
    {
     "name": "stdout",
     "output_type": "stream",
     "text": [
      "72017\n"
     ]
    }
   ],
   "source": [
    "def most_loaded_elf_loop(some_elves):\n",
    "    current_max = 0\n",
    "    for elf in some_elves:\n",
    "        if sum(elf) > current_max:\n",
    "            current_max = sum(elf)\n",
    "    return current_max\n",
    "\n",
    "print(most_loaded_elf_loop(all_elves))\n",
    "# 72017"
   ]
  },
  {
   "cell_type": "code",
   "execution_count": 21,
   "id": "cdccfc64",
   "metadata": {},
   "outputs": [
    {
     "name": "stdout",
     "output_type": "stream",
     "text": [
      "72017\n"
     ]
    }
   ],
   "source": [
    "def most_loaded_elf_list_comp(some_elves):\n",
    "    elf_totals = [\n",
    "        sum(elf)\n",
    "        for elf in some_elves\n",
    "    ]\n",
    "    return max(elf_totals)\n",
    "    \n",
    "print(most_loaded_elf_list_comp(all_elves))\n",
    "# 72017"
   ]
  },
  {
   "cell_type": "code",
   "execution_count": 23,
   "id": "4604f174",
   "metadata": {},
   "outputs": [
    {
     "data": {
      "text/plain": [
       "212520"
      ]
     },
     "execution_count": 23,
     "metadata": {},
     "output_type": "execute_result"
    }
   ],
   "source": [
    "def top_3_elves(some_elves):\n",
    "    elf_totals = [\n",
    "        sum(elf)\n",
    "        for elf in some_elves\n",
    "    ]\n",
    "    just_top_3 = sorted(elf_totals)[-3:]\n",
    "    return sum(just_top_3)\n",
    "    \n",
    "top_3_elves(all_elves)\n",
    "# 212520"
   ]
  },
  {
   "cell_type": "code",
   "execution_count": null,
   "id": "6ba112f5",
   "metadata": {},
   "outputs": [],
   "source": []
  }
 ],
 "metadata": {
  "kernelspec": {
   "display_name": "Python 3 (ipykernel)",
   "language": "python",
   "name": "python3"
  },
  "language_info": {
   "codemirror_mode": {
    "name": "ipython",
    "version": 3
   },
   "file_extension": ".py",
   "mimetype": "text/x-python",
   "name": "python",
   "nbconvert_exporter": "python",
   "pygments_lexer": "ipython3",
   "version": "3.9.7"
  }
 },
 "nbformat": 4,
 "nbformat_minor": 5
}
