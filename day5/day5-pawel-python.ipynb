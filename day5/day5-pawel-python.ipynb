{
 "cells": [
  {
   "cell_type": "code",
   "execution_count": 43,
   "id": "61866bcb",
   "metadata": {},
   "outputs": [],
   "source": [
    "def load_file_lines(filename):\n",
    "    lines = []\n",
    "    file = open(filename)\n",
    "    for line in file:\n",
    "        lines.append(line)\n",
    "    file.close()\n",
    "    return lines\n",
    "\n",
    "datas = load_file_lines(\"./pawel.txt\")"
   ]
  },
  {
   "cell_type": "code",
   "execution_count": 44,
   "id": "b6628e9e",
   "metadata": {},
   "outputs": [],
   "source": [
    "#                 [B]     [L]     [S]\n",
    "#         [Q] [J] [C]     [W]     [F]\n",
    "#     [F] [T] [B] [D]     [P]     [P]\n",
    "#     [S] [J] [Z] [T]     [B] [C] [H]\n",
    "#     [L] [H] [H] [Z] [G] [Z] [G] [R]\n",
    "# [R] [H] [D] [R] [F] [C] [V] [Q] [T]\n",
    "# [C] [J] [M] [G] [P] [H] [N] [J] [D]\n",
    "# [H] [B] [R] [S] [R] [T] [S] [R] [L]\n",
    "#  1   2   3   4   5   6   7   8   9 \n",
    "\n",
    "# move 8 from 7 to 1\n",
    "# move 9 from 1 to 9\n",
    "# move 4 from 5 to 4\n",
    "# move 4 from 6 to 1\n",
    "# move 3 from 8 to 5\n",
    "# move 6 from 5 to 9\n",
    "# move 1 from 5 to 1"
   ]
  },
  {
   "cell_type": "code",
   "execution_count": 45,
   "id": "0d341d06",
   "metadata": {},
   "outputs": [
    {
     "data": {
      "text/plain": [
       "'..QJC.W.F'"
      ]
     },
     "execution_count": 45,
     "metadata": {},
     "output_type": "execute_result"
    }
   ],
   "source": [
    "\"        [Q] [J] [C]     [W]     [F]\".replace(\"   \", \"[.]\").replace(\" \",\"\").replace(\"[\",\"\").replace(\"]\",\"\")"
   ]
  },
  {
   "cell_type": "code",
   "execution_count": 113,
   "id": "10431d2a",
   "metadata": {},
   "outputs": [
    {
     "name": "stdout",
     "output_type": "stream",
     "text": [
      "RHDR\n",
      ".HD.\n",
      "....B.L.S\n",
      "....B.L..\n",
      "....B....\n",
      "....B.LS.\n"
     ]
    }
   ],
   "source": [
    "def load_line_boxes(box_line):\n",
    "    return box_line.replace(\"    \", \"[.]\").replace(\" \",\"\").replace(\"[\",\"\").replace(\"]\",\"\")\n",
    "    \n",
    "    \n",
    "#     number_of_lines = (len(box_line) +1) // 4\n",
    "#     return [\n",
    "#         box_line[start_index]\n",
    "#         for start_index in range(1,len(box_line),4)\n",
    "#     ]\n",
    "\n",
    "print(load_line_boxes(\"[R] [H] [D] [R]\")) # \"RHDR\"\n",
    "print(load_line_boxes(\"    [H] [D]    \")) # \".HD.\"\n",
    "print(load_line_boxes('                [B]     [L]     [S]')) # \".HD.\"\n",
    "print(load_line_boxes('                [B]     [L]        ')) # \".HD.\"\n",
    "print(load_line_boxes('                [B]                ')) # \".HD.\"\n",
    "print(load_line_boxes('                [B]     [L] [S]    ')) # \".HD.\""
   ]
  },
  {
   "cell_type": "code",
   "execution_count": 116,
   "id": "048b741d",
   "metadata": {},
   "outputs": [
    {
     "name": "stdout",
     "output_type": "stream",
     "text": [
      "[['O', 'R'], ['A', 'B'], ['C', 'D'], ['Z', 'R']]\n",
      "[['R'], ['A', 'B'], ['C', 'D'], ['R']]\n",
      "[['R'], ['B'], ['C', 'D'], ['R']]\n"
     ]
    }
   ],
   "source": [
    "def load_all_box_lines(rows):\n",
    "    number_of_columns = len(load_line_boxes(rows[0])) # eg. \".HD.\" -> 4\n",
    "    #     start with [[],[],[],[]]\n",
    "    columns = [\n",
    "        []\n",
    "        for column_index in range(number_of_columns)\n",
    "    ]\n",
    "                            \n",
    "    for row in rows:\n",
    "        row_simplified = load_line_boxes(row) # eg. \".HD.\"\n",
    "        for column_index in range(number_of_columns):\n",
    "            letter_now = row_simplified[column_index]\n",
    "            if letter_now != \".\":\n",
    "                columns[column_index].append(letter_now)\n",
    "    return columns\n",
    "            \n",
    "print(load_all_box_lines(['OACZ','RBDR'])) # [[O,R], ['A','B'], ['C','D'],  [Z,'R']]\n",
    "print(load_all_box_lines(['.AC.','RBDR'] )) # [[R], ['A','B'], ['C','D'],  ['R']]\n",
    "print(load_all_box_lines(['..C.','RBDR'] )) # [[R], [B'], ['C','D'],  ['R']]"
   ]
  },
  {
   "cell_type": "code",
   "execution_count": null,
   "id": "a021a02b",
   "metadata": {},
   "outputs": [],
   "source": []
  },
  {
   "cell_type": "code",
   "execution_count": 117,
   "id": "4a29ee9d",
   "metadata": {},
   "outputs": [
    {
     "name": "stdout",
     "output_type": "stream",
     "text": [
      "True\n",
      "False\n",
      "False\n"
     ]
    }
   ],
   "source": [
    "def is_box_line(line):\n",
    "    return len(line) > 0 and line[0:2] != \" 1\" and line[0:2] != \"mo\"\n",
    "\n",
    "print(is_box_line(\"[A] [B]\"))\n",
    "print(is_box_line(\" 1  2 \"))\n",
    "print(is_box_line(\"move 4 from 5 to 7\"))"
   ]
  },
  {
   "cell_type": "code",
   "execution_count": 119,
   "id": "bb1681c3",
   "metadata": {},
   "outputs": [
    {
     "name": "stdout",
     "output_type": "stream",
     "text": [
      "acg\n",
      "a.g\n"
     ]
    }
   ],
   "source": [
    "def is_empty(line):\n",
    "    return len(line) == 0\n",
    "\n",
    "def crates_on_top(boxes):\n",
    "    top_letters = [\n",
    "        column[0] if len(column) > 0 else \".\"\n",
    "        for column in boxes\n",
    "    ]\n",
    "    return \"\".join(top_letters)\n",
    "\n",
    "print(crates_on_top([['a','b'],['c'],['g','h','j']])) #'acg'\n",
    "print(crates_on_top([['a','b'],[],['g','h','j']])) #'acg'"
   ]
  },
  {
   "cell_type": "code",
   "execution_count": 129,
   "id": "b1ba95ef",
   "metadata": {},
   "outputs": [
    {
     "data": {
      "text/plain": [
       "[[], ['c'], ['b', 'a', 'g', 'h', 'j']]"
      ]
     },
     "execution_count": 129,
     "metadata": {},
     "output_type": "execute_result"
    }
   ],
   "source": [
    "def perform_instructions_on(box_columns, instructions):\n",
    "    for instruction in instructions:\n",
    "        # move 8 from 7 to 1\n",
    "        components = instruction.split(\" \")\n",
    "        moves = int(components[1])\n",
    "        from_stack = int(components[3]) - 1\n",
    "        to_stack = int(components[5]) - 1\n",
    "        \n",
    "        for which_move in range(moves):\n",
    "            move_this = box_columns[from_stack].pop(0)\n",
    "            box_columns[to_stack].insert(0, move_this)\n",
    "                    \n",
    "    return box_columns\n",
    "\n",
    "\n",
    "some_boxes = [['a','b'],['c'],['g','h','j']]\n",
    "some_instructions = ['move 2 from 1 to 3']\n",
    "perform_instructions_on(some_boxes, some_instructions)"
   ]
  },
  {
   "cell_type": "code",
   "execution_count": 130,
   "id": "63fea71c",
   "metadata": {},
   "outputs": [
    {
     "data": {
      "text/plain": [
       "'SHQWSRBDL'"
      ]
     },
     "execution_count": 130,
     "metadata": {},
     "output_type": "execute_result"
    }
   ],
   "source": [
    "def read_lines(file_lines):\n",
    "    box_lines = []\n",
    "    instruction_lines = []\n",
    "    loading_box_info = True\n",
    "    \n",
    "    for line in file_lines:\n",
    "        line = line.replace('\\n',\"\")\n",
    "        if loading_box_info:\n",
    "            if is_box_line(line):\n",
    "                box_lines.append(line)\n",
    "            else:\n",
    "                loading_box_info = False\n",
    "        elif is_empty(line):\n",
    "            continue\n",
    "        else:\n",
    "            instruction_lines.append(line)\n",
    "            \n",
    "#     print(box_lines)\n",
    "    boxes = load_all_box_lines(box_lines)  \n",
    "    moved_boxes = perform_instructions_on(boxes, instruction_lines)\n",
    "    \n",
    "    \n",
    "    return crates_on_top(moved_boxes)\n",
    "\n",
    "top_boxes = read_lines(datas)\n",
    "top_boxes\n",
    "# "
   ]
  },
  {
   "cell_type": "code",
   "execution_count": 137,
   "id": "c0f4fdea",
   "metadata": {},
   "outputs": [
    {
     "data": {
      "text/plain": [
       "[[], ['c'], ['a', 'b', 'g', 'h', 'j']]"
      ]
     },
     "execution_count": 137,
     "metadata": {},
     "output_type": "execute_result"
    }
   ],
   "source": [
    "# part 2\n",
    "\n",
    "def perform_instructions_on_part2(box_columns, instructions):\n",
    "    for instruction in instructions:\n",
    "        # move 8 from 7 to 1\n",
    "        components = instruction.split(\" \")\n",
    "        moves = int(components[1])\n",
    "        from_stack = int(components[3]) - 1\n",
    "        to_stack = int(components[5]) - 1\n",
    "        \n",
    "        crates_to_move = box_columns[from_stack][0:moves]\n",
    "        box_columns[to_stack] = crates_to_move + box_columns[to_stack]\n",
    "        box_columns[from_stack] = box_columns[from_stack][moves:]\n",
    "        \n",
    "                    \n",
    "    return box_columns\n",
    "\n",
    "\n",
    "some_boxes = [['a','b'],['c'],['g','h','j']]\n",
    "some_instructions = ['move 2 from 1 to 3']\n",
    "perform_instructions_on_part2(some_boxes, some_instructions)"
   ]
  },
  {
   "cell_type": "code",
   "execution_count": null,
   "id": "ba018287",
   "metadata": {},
   "outputs": [],
   "source": []
  },
  {
   "cell_type": "code",
   "execution_count": 138,
   "id": "1f85c33a",
   "metadata": {},
   "outputs": [
    {
     "data": {
      "text/plain": [
       "'CDTQZHBRS'"
      ]
     },
     "execution_count": 138,
     "metadata": {},
     "output_type": "execute_result"
    }
   ],
   "source": [
    "def read_lines_part2(file_lines):\n",
    "    box_lines = []\n",
    "    instruction_lines = []\n",
    "    loading_box_info = True\n",
    "    \n",
    "    for line in file_lines:\n",
    "        line = line.replace('\\n',\"\")\n",
    "        if loading_box_info:\n",
    "            if is_box_line(line):\n",
    "                box_lines.append(line)\n",
    "            else:\n",
    "                loading_box_info = False\n",
    "        elif is_empty(line):\n",
    "            continue\n",
    "        else:\n",
    "            instruction_lines.append(line)\n",
    "            \n",
    "#     print(box_lines)\n",
    "    boxes = load_all_box_lines(box_lines)  \n",
    "    moved_boxes = perform_instructions_on_part2(boxes, instruction_lines)\n",
    "    \n",
    "    \n",
    "    return crates_on_top(moved_boxes)\n",
    "\n",
    "top_boxes = read_lines_part2(datas)\n",
    "top_boxes\n",
    "# "
   ]
  },
  {
   "cell_type": "code",
   "execution_count": 134,
   "id": "d129a5ff",
   "metadata": {},
   "outputs": [
    {
     "data": {
      "text/plain": [
       "[7, 8]"
      ]
     },
     "execution_count": 134,
     "metadata": {},
     "output_type": "execute_result"
    }
   ],
   "source": [
    "[5,6,7,8][-2:]"
   ]
  },
  {
   "cell_type": "code",
   "execution_count": null,
   "id": "c723cbef",
   "metadata": {},
   "outputs": [],
   "source": []
  }
 ],
 "metadata": {
  "kernelspec": {
   "display_name": "Python 3 (ipykernel)",
   "language": "python",
   "name": "python3"
  },
  "language_info": {
   "codemirror_mode": {
    "name": "ipython",
    "version": 3
   },
   "file_extension": ".py",
   "mimetype": "text/x-python",
   "name": "python",
   "nbconvert_exporter": "python",
   "pygments_lexer": "ipython3",
   "version": "3.9.7"
  }
 },
 "nbformat": 4,
 "nbformat_minor": 5
}
