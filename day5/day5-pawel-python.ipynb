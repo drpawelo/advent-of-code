{
 "cells": [
  {
   "cell_type": "code",
   "execution_count": 8,
   "id": "61866bcb",
   "metadata": {},
   "outputs": [],
   "source": [
    "def load_file_lines(filename):\n",
    "    lines = []\n",
    "    file = open(filename)\n",
    "    for line in file:\n",
    "        lines.append(line)\n",
    "    file.close()\n",
    "    return lines\n",
    "\n",
    "datas = load_file_lines(\"./pawel.txt\")"
   ]
  },
  {
   "cell_type": "code",
   "execution_count": null,
   "id": "b6628e9e",
   "metadata": {},
   "outputs": [],
   "source": [
    "#                 [B]     [L]     [S]\n",
    "#         [Q] [J] [C]     [W]     [F]\n",
    "#     [F] [T] [B] [D]     [P]     [P]\n",
    "#     [S] [J] [Z] [T]     [B] [C] [H]\n",
    "#     [L] [H] [H] [Z] [G] [Z] [G] [R]\n",
    "# [R] [H] [D] [R] [F] [C] [V] [Q] [T]\n",
    "# [C] [J] [M] [G] [P] [H] [N] [J] [D]\n",
    "# [H] [B] [R] [S] [R] [T] [S] [R] [L]\n",
    "#  1   2   3   4   5   6   7   8   9 \n",
    "\n",
    "# move 8 from 7 to 1\n",
    "# move 9 from 1 to 9\n",
    "# move 4 from 5 to 4\n",
    "# move 4 from 6 to 1\n",
    "# move 3 from 8 to 5\n",
    "# move 6 from 5 to 9\n",
    "# move 1 from 5 to 1"
   ]
  },
  {
   "cell_type": "code",
   "execution_count": 19,
   "id": "0d341d06",
   "metadata": {},
   "outputs": [
    {
     "data": {
      "text/plain": [
       "'..QJC.W.F'"
      ]
     },
     "execution_count": 19,
     "metadata": {},
     "output_type": "execute_result"
    }
   ],
   "source": [
    "\"        [Q] [J] [C]     [W]     [F]\".replace(\"   \", \"[.]\").replace(\" \",\"\").replace(\"[\",\"\").replace(\"]\",\"\")"
   ]
  },
  {
   "cell_type": "code",
   "execution_count": 20,
   "id": "10431d2a",
   "metadata": {},
   "outputs": [
    {
     "name": "stdout",
     "output_type": "stream",
     "text": [
      "RHDR\n",
      ".HD.\n"
     ]
    }
   ],
   "source": [
    "# 31-31,32-40\n",
    "def load_line_boxes(box_line):\n",
    "    return box_line.replace(\"   \", \"[.]\").replace(\" \",\"\").replace(\"[\",\"\").replace(\"]\",\"\")\n",
    "    \n",
    "    \n",
    "#     number_of_lines = (len(box_line) +1) // 4\n",
    "#     return [\n",
    "#         box_line[start_index]\n",
    "#         for start_index in range(1,len(box_line),4)\n",
    "#     ]\n",
    "\n",
    "print(load_line_boxes(\"[R] [H] [D] [R]\")) # \"RHDR\"\n",
    "print(load_line_boxes(\"    [H] [D]    \")) # \".HD.\""
   ]
  },
  {
   "cell_type": "code",
   "execution_count": 28,
   "id": "8c102537",
   "metadata": {},
   "outputs": [
    {
     "name": "stdout",
     "output_type": "stream",
     "text": [
      "[['R'], ['A', 'B'], ['C', 'D'], ['R']]\n"
     ]
    }
   ],
   "source": [
    "def load_all_box_lines(box_lines):\n",
    "    columns = [\n",
    "        []\n",
    "        for column in range(len(box_lines[0]))\n",
    "    ]\n",
    "    for line in box_lines:\n",
    "        for column_index in range(len(columns)):\n",
    "            letter_now = line[column_index]\n",
    "            if letter_now != \".\":\n",
    "                columns[column_index].append(letter_now)\n",
    "    return columns\n",
    "            \n",
    "            \n",
    "    \n",
    "    \n",
    "# b_lines = ['OACZ','RBDR']  # [[O,R], ['A','B'], ['C','D'],  [Z,'R']]\n",
    "b_lines = ['.AC.','RBDR']  # [[R], ['A','B'], ['C','D'],  ['R']]\n",
    "\n",
    "print(load_all_box_lines(b_lines))"
   ]
  },
  {
   "cell_type": "code",
   "execution_count": 9,
   "id": "a021a02b",
   "metadata": {},
   "outputs": [
    {
     "data": {
      "text/plain": [
       "1.0"
      ]
     },
     "execution_count": 9,
     "metadata": {},
     "output_type": "execute_result"
    }
   ],
   "source": []
  },
  {
   "cell_type": "code",
   "execution_count": null,
   "id": "96a6c6d8",
   "metadata": {},
   "outputs": [],
   "source": []
  },
  {
   "cell_type": "code",
   "execution_count": 14,
   "id": "63fea71c",
   "metadata": {},
   "outputs": [
    {
     "data": {
      "text/plain": [
       "556"
      ]
     },
     "execution_count": 14,
     "metadata": {},
     "output_type": "execute_result"
    }
   ],
   "source": [
    "def get_scores(file_lines):\n",
    "    scores = [\n",
    "        1 if do_ranges_include_each_other(line) else 0\n",
    "        for line in file_lines\n",
    "    ]\n",
    "    return scores\n",
    "\n",
    "scores = get_scores(datas)\n",
    "sum(scores)\n",
    "# "
   ]
  },
  {
   "cell_type": "code",
   "execution_count": 26,
   "id": "ba018287",
   "metadata": {},
   "outputs": [
    {
     "name": "stdout",
     "output_type": "stream",
     "text": [
      "False\n",
      "True\n",
      "True\n"
     ]
    }
   ],
   "source": [
    "# @ part 2\n",
    "\n",
    "# 31-31,32-40\n",
    "def do_ranges_intersect(string_with_ranges):\n",
    "    ranges = string_with_ranges.split(\",\")\n",
    "    start1 = int(ranges[0].split(\"-\")[0])\n",
    "    end1 = int(ranges[0].split(\"-\")[1])\n",
    "    start2 = int(ranges[1].split(\"-\")[0])\n",
    "    end2 = int(ranges[1].split(\"-\")[1])\n",
    "    return not (end1 < start2 or end2 < start1)\n",
    "\n",
    "print(do_ranges_intersect(\"31-31,32-40\"))\n",
    "print(do_ranges_intersect(\"61-61,32-70\"))\n",
    "print(do_ranges_intersect(\"31-31,2-31\"))"
   ]
  },
  {
   "cell_type": "code",
   "execution_count": 28,
   "id": "1f85c33a",
   "metadata": {},
   "outputs": [
    {
     "data": {
      "text/plain": [
       "876"
      ]
     },
     "execution_count": 28,
     "metadata": {},
     "output_type": "execute_result"
    }
   ],
   "source": [
    "def get_scores(file_lines):\n",
    "    scores = [\n",
    "        1 if do_ranges_intersect(line) else 0\n",
    "        for line in file_lines\n",
    "    ]\n",
    "    return scores\n",
    "\n",
    "scores = get_scores(datas)\n",
    "sum(scores)\n",
    "# "
   ]
  },
  {
   "cell_type": "code",
   "execution_count": null,
   "id": "d129a5ff",
   "metadata": {},
   "outputs": [],
   "source": []
  }
 ],
 "metadata": {
  "kernelspec": {
   "display_name": "Python 3 (ipykernel)",
   "language": "python",
   "name": "python3"
  },
  "language_info": {
   "codemirror_mode": {
    "name": "ipython",
    "version": 3
   },
   "file_extension": ".py",
   "mimetype": "text/x-python",
   "name": "python",
   "nbconvert_exporter": "python",
   "pygments_lexer": "ipython3",
   "version": "3.9.7"
  }
 },
 "nbformat": 4,
 "nbformat_minor": 5
}
