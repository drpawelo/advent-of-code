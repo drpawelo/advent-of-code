{
 "cells": [
  {
   "cell_type": "code",
   "execution_count": 8,
   "id": "61866bcb",
   "metadata": {},
   "outputs": [],
   "source": [
    "def load_file_lines(filename):\n",
    "    lines = []\n",
    "    file = open(filename)\n",
    "    for line in file:\n",
    "        lines.append(line)\n",
    "    file.close()\n",
    "    return lines\n",
    "\n",
    "datas = load_file_lines(\"./pawel.txt\")"
   ]
  },
  {
   "cell_type": "code",
   "execution_count": null,
   "id": "0d341d06",
   "metadata": {},
   "outputs": [],
   "source": []
  },
  {
   "cell_type": "code",
   "execution_count": 13,
   "id": "10431d2a",
   "metadata": {},
   "outputs": [
    {
     "name": "stdout",
     "output_type": "stream",
     "text": [
      "False\n",
      "True\n",
      "True\n"
     ]
    }
   ],
   "source": [
    "# 31-31,32-40\n",
    "def do_ranges_include_each_other(string_with_ranges):\n",
    "    ranges = string_with_ranges.split(\",\")\n",
    "    start1 = int(ranges[0].split(\"-\")[0])\n",
    "    end1 = int(ranges[0].split(\"-\")[1])\n",
    "    start2 = int(ranges[1].split(\"-\")[0])\n",
    "    end2 = int(ranges[1].split(\"-\")[1])\n",
    "    return (start1 <= start2 and end1 >= end2) or (start2 <= start1 and end2 >= end1)\n",
    "\n",
    "print(do_ranges_include_each_other(\"31-31,34-40\"))\n",
    "print(do_ranges_include_each_other(\"61-61,32-70\"))\n",
    "print(do_ranges_include_each_other(\"31-31,30-40\"))"
   ]
  },
  {
   "cell_type": "code",
   "execution_count": null,
   "id": "8c102537",
   "metadata": {},
   "outputs": [],
   "source": []
  },
  {
   "cell_type": "code",
   "execution_count": null,
   "id": "a021a02b",
   "metadata": {},
   "outputs": [],
   "source": []
  },
  {
   "cell_type": "code",
   "execution_count": null,
   "id": "96a6c6d8",
   "metadata": {},
   "outputs": [],
   "source": []
  },
  {
   "cell_type": "code",
   "execution_count": 14,
   "id": "63fea71c",
   "metadata": {},
   "outputs": [
    {
     "data": {
      "text/plain": [
       "556"
      ]
     },
     "execution_count": 14,
     "metadata": {},
     "output_type": "execute_result"
    }
   ],
   "source": [
    "def get_scores(file_lines):\n",
    "    scores = [\n",
    "        1 if do_ranges_include_each_other(line) else 0\n",
    "        for line in file_lines\n",
    "    ]\n",
    "    return scores\n",
    "\n",
    "scores = get_scores(datas)\n",
    "sum(scores)\n",
    "# "
   ]
  },
  {
   "cell_type": "code",
   "execution_count": 26,
   "id": "ba018287",
   "metadata": {},
   "outputs": [
    {
     "name": "stdout",
     "output_type": "stream",
     "text": [
      "False\n",
      "True\n",
      "True\n"
     ]
    }
   ],
   "source": [
    "# @ part 2\n",
    "\n",
    "# 31-31,32-40\n",
    "def do_ranges_intersect(string_with_ranges):\n",
    "    ranges = string_with_ranges.split(\",\")\n",
    "    start1 = int(ranges[0].split(\"-\")[0])\n",
    "    end1 = int(ranges[0].split(\"-\")[1])\n",
    "    start2 = int(ranges[1].split(\"-\")[0])\n",
    "    end2 = int(ranges[1].split(\"-\")[1])\n",
    "    return not (end1 < start2 or end2 < start1)\n",
    "\n",
    "print(do_ranges_intersect(\"31-31,32-40\"))\n",
    "print(do_ranges_intersect(\"61-61,32-70\"))\n",
    "print(do_ranges_intersect(\"31-31,2-31\"))"
   ]
  },
  {
   "cell_type": "code",
   "execution_count": 28,
   "id": "1f85c33a",
   "metadata": {},
   "outputs": [
    {
     "data": {
      "text/plain": [
       "876"
      ]
     },
     "execution_count": 28,
     "metadata": {},
     "output_type": "execute_result"
    }
   ],
   "source": [
    "def get_scores(file_lines):\n",
    "    scores = [\n",
    "        1 if do_ranges_intersect(line) else 0\n",
    "        for line in file_lines\n",
    "    ]\n",
    "    return scores\n",
    "\n",
    "scores = get_scores(datas)\n",
    "sum(scores)\n",
    "# "
   ]
  },
  {
   "cell_type": "code",
   "execution_count": null,
   "id": "d129a5ff",
   "metadata": {},
   "outputs": [],
   "source": []
  }
 ],
 "metadata": {
  "kernelspec": {
   "display_name": "Python 3 (ipykernel)",
   "language": "python",
   "name": "python3"
  },
  "language_info": {
   "codemirror_mode": {
    "name": "ipython",
    "version": 3
   },
   "file_extension": ".py",
   "mimetype": "text/x-python",
   "name": "python",
   "nbconvert_exporter": "python",
   "pygments_lexer": "ipython3",
   "version": "3.9.7"
  }
 },
 "nbformat": 4,
 "nbformat_minor": 5
}
