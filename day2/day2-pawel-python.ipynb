{
 "cells": [
  {
   "cell_type": "code",
   "execution_count": 2,
   "id": "a78bfc68",
   "metadata": {},
   "outputs": [],
   "source": [
    "def load_file_lines(filename):\n",
    "    lines = []\n",
    "    file = open(filename)\n",
    "    for line in file:\n",
    "        lines.append(line)\n",
    "    file.close()\n",
    "    return lines\n",
    "\n",
    "datas = load_file_lines(\"./pawel.txt\")"
   ]
  },
  {
   "cell_type": "code",
   "execution_count": 3,
   "id": "e25d5c80",
   "metadata": {},
   "outputs": [],
   "source": [
    "# part 1\n",
    "\n",
    "# file looks like this:\n",
    "# B Z\n",
    "# B Z\n",
    "# B Y\n",
    "# C Y\n",
    "# B Y\n",
    "\n",
    "# them: A for Rock, B for Paper, and C for Scissors.\n",
    "#  me:  X for Rock, Y for Paper, and Z for Scissors.\n",
    "\n",
    "# basic points:  (1 for Rock, 2 for Paper, and 3 for Scissors) \n",
    "basic_scores = {'X':1, 'Y':2, 'Z':3}\n",
    "\n",
    "# win_scores are read like win_scores[mine][theirs] eg win_scores['X']['A']\n",
    "win_scores = {'X': {'A': 3, 'B':0, 'C':6},\n",
    "              'Y': {'A': 6, 'B':3, 'C':0},\n",
    "              'Z': {'A': 0, 'B':6, 'C':3}}"
   ]
  },
  {
   "cell_type": "code",
   "execution_count": 4,
   "id": "128b2fc0",
   "metadata": {},
   "outputs": [
    {
     "data": {
      "text/plain": [
       "13005"
      ]
     },
     "execution_count": 4,
     "metadata": {},
     "output_type": "execute_result"
    }
   ],
   "source": [
    "def instructions_into_object(instructions):\n",
    "    a_fight = {}\n",
    "    a_fight['them'] = instructions.strip(\"\\n\").split(\" \")[0]\n",
    "    a_fight['me'] = instructions.strip(\"\\n\").split(\" \")[1]\n",
    "    a_fight['basic_score'] = basic_scores[a_fight['me']]\n",
    "    a_fight['win_scores'] = win_scores[a_fight['me']][a_fight['them']]\n",
    "    a_fight['total_score'] = a_fight['basic_score'] + a_fight['win_scores']\n",
    "    return a_fight\n",
    "\n",
    "def create_objects(lines_from_file):\n",
    "    fights = [\n",
    "        instructions_into_object(fight_instructions)\n",
    "        for fight_instructions in lines_from_file\n",
    "    ]\n",
    "    return fights\n",
    "\n",
    "def total_score(some_fights):\n",
    "    scores = [\n",
    "        fight['total_score']\n",
    "        for fight in all_fights\n",
    "    ]\n",
    "    return sum(scores)\n",
    "\n",
    "\n",
    "all_fights = create_objects(datas)\n",
    "total_score(all_fights)\n",
    "# 13005"
   ]
  },
  {
   "cell_type": "code",
   "execution_count": null,
   "id": "bcceaff0",
   "metadata": {},
   "outputs": [],
   "source": [
    "# part 2\n",
    "# file looks like this:\n",
    "# B Z\n",
    "# B Z\n",
    "# B Y\n",
    "# C Y\n",
    "# B Y\n",
    "\n",
    "# them: A for Rock, B for Paper, and C for Scissors.\n",
    "#  me:  X for Rock, Y for Paper, and Z for Scissors.\n",
    "# points: (1 for Rock, 2 for Paper, and 3 for Scissors) \n",
    "\n",
    "# new rulers:\n",
    "# X means you need to lose, \n",
    "# Y means you need to end the round in a draw, \n",
    "# and Z means you need to win."
   ]
  },
  {
   "cell_type": "code",
   "execution_count": 13,
   "id": "b6c6900c",
   "metadata": {},
   "outputs": [
    {
     "data": {
      "text/plain": [
       "11373"
      ]
     },
     "execution_count": 13,
     "metadata": {},
     "output_type": "execute_result"
    }
   ],
   "source": [
    "# eg. to_human['A'] becomes 'Rock'\n",
    "to_human = { 'A':'Rock', 'B': 'Paper', 'C': 'Scissors',\n",
    "             'X':'Rock', 'Y': 'Paper', 'Z': 'Scissors'}\n",
    "\n",
    "basic_scores = {'Rock':1, 'Paper':2, 'Scissors':3}\n",
    "\n",
    "# win_scores are read like win_scores[mine][theirs] eg win_scores['X']['A']\n",
    "win_scores = {'Rock':     {'Rock': 3, 'Paper':0, 'Scissors':6},\n",
    "              'Paper':    {'Rock': 6, 'Paper':3, 'Scissors':0},\n",
    "              'Scissors': {'Rock': 0, 'Paper':6, 'Scissors':3}}\n",
    "\n",
    "def what_should_i_play(result, them):\n",
    "    rules = { 'X': {'Rock': 'Scissors', 'Paper':'Rock',     'Scissors':'Paper'},\n",
    "              'Y': {'Rock': 'Rock',     'Paper':'Paper',    'Scissors':'Scissors'},\n",
    "              'Z': {'Rock': 'Paper',    'Paper':'Scissors', 'Scissors':'Rock'}\n",
    "            }\n",
    "    return rules[result][them]\n",
    "\n",
    "\n",
    "def instruction_line_into_score(instruction_line):    \n",
    "    them_raw = instruction_line.strip(\"\\n\").split(\" \")[0] # A\n",
    "    them = to_human[them_raw] # eg. 'A' -> Rock\n",
    "    \n",
    "    result  = instruction_line.strip(\"\\n\").split(\" \")[1] # X\n",
    "    me = what_should_i_play(result, them) # Scisors\n",
    "    \n",
    "    basic_score = basic_scores[me]\n",
    "    win_score = win_scores[me][them]\n",
    "    total_score = basic_score + win_score\n",
    "    return total_score\n",
    "\n",
    "\n",
    "scores = [\n",
    "    instruction_line_into_score(data)\n",
    "    for data in datas\n",
    "]\n",
    "\n",
    "sum(scores)\n",
    "# 11373"
   ]
  },
  {
   "cell_type": "code",
   "execution_count": null,
   "id": "043bd721",
   "metadata": {},
   "outputs": [],
   "source": []
  }
 ],
 "metadata": {
  "kernelspec": {
   "display_name": "Python 3 (ipykernel)",
   "language": "python",
   "name": "python3"
  },
  "language_info": {
   "codemirror_mode": {
    "name": "ipython",
    "version": 3
   },
   "file_extension": ".py",
   "mimetype": "text/x-python",
   "name": "python",
   "nbconvert_exporter": "python",
   "pygments_lexer": "ipython3",
   "version": "3.9.7"
  }
 },
 "nbformat": 4,
 "nbformat_minor": 5
}
