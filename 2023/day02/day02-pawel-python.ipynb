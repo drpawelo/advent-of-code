{
 "cells": [
  {
   "cell_type": "code",
   "execution_count": null,
   "id": "8c3b2e12",
   "metadata": {},
   "outputs": [],
   "source": [
    "def load_file_lines(filename):\n",
    "    lines = []\n",
    "    file = open(filename)\n",
    "    for line in file:\n",
    "        lines.append(line.rstrip(\"\\n\"))\n",
    "    file.close()\n",
    "    return lines\n",
    "\n",
    "datas = load_file_lines(\"./pawel.txt\")\n",
    "# datas"
   ]
  },
  {
   "cell_type": "code",
   "execution_count": 27,
   "id": "38e8b8f1",
   "metadata": {},
   "outputs": [
    {
     "data": {
      "text/plain": [
       "['0', '1', '2', '3', '4', '5', '6', '7', '8', '9']"
      ]
     },
     "execution_count": 27,
     "metadata": {},
     "output_type": "execute_result"
    }
   ],
   "source": [
    "def digit_strings():\n",
    "    return [str(digit) for digit in range(10)]\n",
    "\n",
    "digit_strings()"
   ]
  },
  {
   "cell_type": "code",
   "execution_count": 28,
   "id": "f94cfb6f",
   "metadata": {},
   "outputs": [
    {
     "name": "stdout",
     "output_type": "stream",
     "text": [
      "tests passed\n"
     ]
    }
   ],
   "source": [
    "assert digit_strings() == ['0', '1', '2', '3', '4', '5', '6', '7', '8', '9']\n",
    "print(\"tests passed\")"
   ]
  },
  {
   "cell_type": "code",
   "execution_count": 29,
   "id": "2be7c337",
   "metadata": {},
   "outputs": [
    {
     "name": "stdout",
     "output_type": "stream",
     "text": [
      "37\n",
      "37\n",
      "37\n",
      "37\n",
      "33\n"
     ]
    }
   ],
   "source": [
    "def line_to_number(line_string):\n",
    "    just_digits = list(filter( lambda letter: letter in digit_strings(), list(line_string)))\n",
    "    return int(just_digits[0] + just_digits[-1])\n",
    "\n",
    "\n",
    "print(line_to_number(\"xt36five7asd\"))\n",
    "print(line_to_number(\"36five7a\"))\n",
    "print(line_to_number(\"xt36five7\"))\n",
    "print(line_to_number(\"xt3five7\"))\n",
    "print(line_to_number(\"xt3five\"))"
   ]
  },
  {
   "cell_type": "code",
   "execution_count": 30,
   "id": "ed87f8c6",
   "metadata": {},
   "outputs": [
    {
     "name": "stdout",
     "output_type": "stream",
     "text": [
      "tests passed\n"
     ]
    }
   ],
   "source": [
    "assert line_to_number(\"xt36five7asd\") == 37\n",
    "assert line_to_number(\"36five7a\") == 37\n",
    "assert line_to_number(\"xt36five7\") == 37\n",
    "assert line_to_number(\"xt3five7\") == 37\n",
    "assert line_to_number(\"xt3five\") == 33\n",
    "print(\"tests passed\")"
   ]
  },
  {
   "cell_type": "code",
   "execution_count": 31,
   "id": "1ff7ad9b",
   "metadata": {},
   "outputs": [
    {
     "name": "stdout",
     "output_type": "stream",
     "text": [
      "[37, 33]\n"
     ]
    }
   ],
   "source": [
    "def lines_to_numbers(lines):\n",
    "    return [line_to_number(line) for line in lines]\n",
    "\n",
    "example_lines = [\"xt3five7\", \"xt3five\"] \n",
    "print(lines_to_numbers(example_lines))"
   ]
  },
  {
   "cell_type": "code",
   "execution_count": 32,
   "id": "aadce6b3",
   "metadata": {},
   "outputs": [
    {
     "name": "stdout",
     "output_type": "stream",
     "text": [
      "tests passed\n"
     ]
    }
   ],
   "source": [
    "assert lines_to_numbers(example_lines) == [37, 33]\n",
    "print(\"tests passed\")"
   ]
  },
  {
   "cell_type": "code",
   "execution_count": 33,
   "id": "a545454f",
   "metadata": {},
   "outputs": [
    {
     "data": {
      "text/plain": [
       "54573"
      ]
     },
     "execution_count": 33,
     "metadata": {},
     "output_type": "execute_result"
    }
   ],
   "source": [
    "def final_answer(lines):\n",
    "    return sum(lines_to_numbers(lines))\n",
    "\n",
    "final_answer(datas)\n",
    "# 54573?"
   ]
  },
  {
   "cell_type": "markdown",
   "id": "c47136a1",
   "metadata": {},
   "source": [
    "# part 2"
   ]
  },
  {
   "cell_type": "code",
   "execution_count": 268,
   "id": "2cd2e94c",
   "metadata": {},
   "outputs": [
    {
     "data": {
      "text/plain": [
       "{'one': '1',\n",
       " 'two': '2',\n",
       " 'three': '3',\n",
       " 'four': '4',\n",
       " 'five': '5',\n",
       " 'six': '6',\n",
       " 'seven': '7',\n",
       " 'eight': '8',\n",
       " 'nine': '9',\n",
       " '0': '0',\n",
       " '1': '1',\n",
       " '2': '2',\n",
       " '3': '3',\n",
       " '4': '4',\n",
       " '5': '5',\n",
       " '6': '6',\n",
       " '7': '7',\n",
       " '8': '8',\n",
       " '9': '9'}"
      ]
     },
     "execution_count": 268,
     "metadata": {},
     "output_type": "execute_result"
    }
   ],
   "source": [
    "words_as_digits = {\"one\":\"1\", \"two\":\"2\", \"three\":\"3\", \n",
    "                   \"four\":\"4\", \"five\":\"5\", \n",
    "                   \"six\":\"6\", \"seven\":\"7\",\n",
    "                   \"eight\":\"8\", \"nine\":\"9\"}\n",
    "\n",
    "digits_as_digits = {str(number):str(number) \n",
    "                    for number in range(10)}\n",
    "\n",
    "digits_dict = {**words_as_digits, **digits_as_digits}\n",
    "\n",
    "digits_dict"
   ]
  },
  {
   "cell_type": "code",
   "execution_count": 292,
   "id": "7879846d",
   "metadata": {},
   "outputs": [
    {
     "name": "stdout",
     "output_type": "stream",
     "text": [
      "8\n",
      "None\n",
      "8\n",
      "3\n",
      "2\n",
      "None\n"
     ]
    }
   ],
   "source": [
    "# ok, let's start again!\n",
    "\n",
    "def digit_at_start(string_line):\n",
    "    for word, digit in digits_dict.items():\n",
    "        if string_line.startswith(word):\n",
    "            return digit\n",
    "    return None\n",
    "\n",
    "print(digit_at_start(\"eightwoeighthree\"))\n",
    "print(digit_at_start(\"ightwoeighthree\"))\n",
    "print(digit_at_start(\"eighthree\"))\n",
    "print(digit_at_start(\"three\"))\n",
    "print(digit_at_start(\"2\"))\n",
    "print(digit_at_start(\"ee\"))"
   ]
  },
  {
   "cell_type": "code",
   "execution_count": 282,
   "id": "16e94e0d",
   "metadata": {},
   "outputs": [
    {
     "data": {
      "text/plain": [
       "True"
      ]
     },
     "execution_count": 282,
     "metadata": {},
     "output_type": "execute_result"
    }
   ],
   "source": []
  },
  {
   "cell_type": "code",
   "execution_count": 294,
   "id": "17cdc2ca",
   "metadata": {},
   "outputs": [
    {
     "name": "stdout",
     "output_type": "stream",
     "text": [
      "['3', '8', '2', '8', '3']\n"
     ]
    }
   ],
   "source": [
    "def all_digits_in(string_line):\n",
    "    digits = []\n",
    "    for index in range(len(string_line)):\n",
    "        new_digit = digit_at_start(string_line[index:])\n",
    "        if new_digit:\n",
    "            digits.extend(new_digit) \n",
    "    return digits\n",
    "\n",
    "print(all_digits_in(\"3eightwoeighthree\"))"
   ]
  },
  {
   "cell_type": "code",
   "execution_count": 300,
   "id": "7e10d33e",
   "metadata": {
    "scrolled": false
   },
   "outputs": [
    {
     "name": "stdout",
     "output_type": "stream",
     "text": [
      "33\n",
      "28\n"
     ]
    }
   ],
   "source": [
    "def result_in_p2(string_line):\n",
    "    digits = all_digits_in(string_line)\n",
    "    return digits[0] + digits[-1]\n",
    "\n",
    "print(result_in_p2(\"3eightwoeighthree\"))\n",
    "print(result_in_p2(\"ws2eightwoeighthre\"))"
   ]
  },
  {
   "cell_type": "code",
   "execution_count": 301,
   "id": "5a1b1b03",
   "metadata": {},
   "outputs": [
    {
     "name": "stdout",
     "output_type": "stream",
     "text": [
      "['two1nine', 'eightwothree', 'abcone2threexyz', 'xtwone3four', '4nineeightseven2', 'zoneight234', '7pqrstsixteen']\n",
      "     [29, 83, 13, 24, 42, 14, 76]\n"
     ]
    }
   ],
   "source": [
    "def lines_to_numbers_p2(lines):\n",
    "    return [int(result_in_p2(line)) for line in lines]\n",
    "\n",
    "# example_lines = [\"xt3five7\", \"xt3five\", \"eightwothreeight\",\"eightwothreight\"] \n",
    "print(datas_test)\n",
    "print(\"    \",lines_to_numbers_p2(datas_test))\n",
    "# 29, 83, 13, 24, 42, 14, 76"
   ]
  },
  {
   "cell_type": "code",
   "execution_count": 302,
   "id": "48e3c5e3",
   "metadata": {},
   "outputs": [
    {
     "name": "stdout",
     "output_type": "stream",
     "text": [
      "281\n",
      "54591\n"
     ]
    }
   ],
   "source": [
    "def final_answer_p2(lines):\n",
    "    return sum(lines_to_numbers_p2(lines))\n",
    "\n",
    "print(final_answer_p2(datas_test))\n",
    "print(final_answer_p2(datas))\n",
    "\n",
    "# 83000?\n",
    "# 9789\n",
    "# 54591!!!"
   ]
  },
  {
   "cell_type": "code",
   "execution_count": null,
   "id": "cee72881",
   "metadata": {},
   "outputs": [],
   "source": []
  },
  {
   "cell_type": "code",
   "execution_count": null,
   "id": "2d481a89",
   "metadata": {},
   "outputs": [],
   "source": []
  },
  {
   "cell_type": "code",
   "execution_count": null,
   "id": "4ae9cd06",
   "metadata": {},
   "outputs": [],
   "source": []
  },
  {
   "cell_type": "code",
   "execution_count": null,
   "id": "26412b3d",
   "metadata": {},
   "outputs": [],
   "source": [
    "def game_id_from_line(line):\n",
    "    return int(line[5:line.index(\":\")])\n",
    "\n",
    "print(game_id_from_line('Game 3: 13 green, 3 red;'))\n",
    "print(game_id_from_line('Game 12: 13 green, 3 red;'))"
   ]
  },
  {
   "cell_type": "code",
   "execution_count": 83,
   "id": "200f9945",
   "metadata": {},
   "outputs": [
    {
     "name": "stdout",
     "output_type": "stream",
     "text": [
      "['13 green, 3 red', '3 green, 322 red']\n"
     ]
    }
   ],
   "source": [
    "def game_strings(line):\n",
    "    return line[line.index(\":\")+2:].split(\";\")\n",
    "\n",
    "print(game_strings('Game 3: 13 green, 3 red;3 green, 322 red'))"
   ]
  },
  {
   "cell_type": "code",
   "execution_count": 84,
   "id": "f9ea8fc7",
   "metadata": {},
   "outputs": [],
   "source": [
    "# [colour_count.split(\" \") for colour_count in game_strings('Game 3: 13 green, 3 red;3 green, 322 red;')]"
   ]
  },
  {
   "cell_type": "code",
   "execution_count": 85,
   "id": "70fbc532",
   "metadata": {},
   "outputs": [
    {
     "name": "stdout",
     "output_type": "stream",
     "text": [
      "{'red': 3, 'green': 13, 'blue': 0}\n",
      "{'red': 13, 'green': 3, 'blue': 2}\n"
     ]
    }
   ],
   "source": [
    "def game_string_into_numbers(game_string):\n",
    "    found_colors = dict([ (colour_count.strip().split(\" \")[1].strip(\",\"),\n",
    "                           int(colour_count.strip().split(\" \")[0]))\n",
    "            for colour_count in game_string.split(', ')\n",
    "           ])\n",
    "#     print(found_colors)\n",
    "    return {** {\"red\":0,\"green\":0,\"blue\":0}, **found_colors}\n",
    "\n",
    "print(game_string_into_numbers('13 green, 3 red'))\n",
    "print(game_string_into_numbers('13 red, 3 green, 2 blue'))"
   ]
  },
  {
   "cell_type": "code",
   "execution_count": 90,
   "id": "d3e594f3",
   "metadata": {},
   "outputs": [
    {
     "name": "stdout",
     "output_type": "stream",
     "text": [
      "[{'red': 3, 'green': 13, 'blue': 0}, {'red': 322, 'green': 3, 'blue': 0}]\n"
     ]
    }
   ],
   "source": [
    "def all_game_colours(line):\n",
    "    return [ game_string_into_numbers(game_string)\n",
    "        for game_string in game_strings(line)]\n",
    "\n",
    "print(all_game_colours('Game 3: 13 green, 3 red;3 green, 322 red'))"
   ]
  },
  {
   "cell_type": "code",
   "execution_count": 91,
   "id": "d08f9c95",
   "metadata": {},
   "outputs": [
    {
     "name": "stdout",
     "output_type": "stream",
     "text": [
      "True\n",
      "True\n",
      "False\n",
      "False\n"
     ]
    }
   ],
   "source": [
    "def is_game_possible(all_games):\n",
    "    maxes = {'red': 12, 'green': 13, 'blue': 14}\n",
    "    forbidden_counts = [True\n",
    "        for game in all_games\n",
    "        for (color, count) in game.items()\n",
    "        if count > maxes[color]]\n",
    "    return len(forbidden_counts) == 0\n",
    "\n",
    "print(is_game_possible([{'red': 3, 'green': 10, 'blue': 0}, {'red': 2, 'green': 3, 'blue': 0}]))\n",
    "print(is_game_possible([{'red': 3, 'green': 10, 'blue': 0}, {'red': 12, 'green': 3, 'blue': 0}]))\n",
    "print(is_game_possible([{'red': 3, 'green': 10, 'blue': 0}, {'red': 13, 'green': 3, 'blue': 0}]))\n",
    "print(is_game_possible([{'red': 3, 'green': 10, 'blue': 0}, {'red': 322, 'green': 3, 'blue': 0}]))"
   ]
  },
  {
   "cell_type": "code",
   "execution_count": 97,
   "id": "792f7246",
   "metadata": {},
   "outputs": [
    {
     "name": "stdout",
     "output_type": "stream",
     "text": [
      "0\n",
      "0\n",
      "6\n"
     ]
    }
   ],
   "source": [
    "# 'Game 1: 13 green, 3 red; 4 red, 9 green, 4 blue; 9 green, 10 red, 2 blue'\n",
    "def game_id_if_possible(line):\n",
    "#     print(line)\n",
    "#     print(all_game_colours(line))\n",
    "    is_possible = is_game_possible(all_game_colours(line))\n",
    "    return game_id_from_line(line) if is_possible == True else 0\n",
    "\n",
    "line = 'Game 4: 13 green, 3 red; 4 red, 9 green, 4 blue; 90 green, 10 red, 2 blue'\n",
    "print(game_id_if_possible(line))\n",
    "line2 = 'Game 5: 132 green, 3 red; 4 red, 9 green, 4 blue; 0 green, 10 red, 2 blue'\n",
    "print(game_id_if_possible(line2))\n",
    "line3 = 'Game 6: 12 green, 3 red; 4 red, 9 green, 4 blue; 9 green, 10 red, 2 blue'\n",
    "print(game_id_if_possible(line3))"
   ]
  },
  {
   "cell_type": "code",
   "execution_count": 98,
   "id": "ed60e424",
   "metadata": {},
   "outputs": [
    {
     "data": {
      "text/plain": [
       "2593"
      ]
     },
     "execution_count": 98,
     "metadata": {},
     "output_type": "execute_result"
    }
   ],
   "source": [
    "def answer_p1(some_data):\n",
    "    return sum([game_id_if_possible(line) \n",
    "                for line in  some_data])\n",
    "answer_p1(datas)"
   ]
  },
  {
   "cell_type": "code",
   "execution_count": null,
   "id": "57184841",
   "metadata": {},
   "outputs": [],
   "source": [
    "# part 2"
   ]
  },
  {
   "cell_type": "code",
   "execution_count": 101,
   "id": "5e48e4d3",
   "metadata": {},
   "outputs": [
    {
     "name": "stdout",
     "output_type": "stream",
     "text": [
      "{'red': 3, 'green': 10, 'blue': 4}\n",
      "{'red': 12, 'green': 10, 'blue': 3}\n",
      "{'red': 13, 'green': 10, 'blue': 2}\n",
      "{'red': 322, 'green': 10, 'blue': 1}\n"
     ]
    }
   ],
   "source": [
    "def minimum_set(all_games):\n",
    "    maximums = {'red': 0, 'green': 0, 'blue': 0}\n",
    "    for game in all_games:\n",
    "        for (color, count) in game.items():\n",
    "            maximums[color] = max(maximums[color], count)\n",
    "    return maximums\n",
    "\n",
    "print(minimum_set([{'red': 3, 'green': 10, 'blue': 4}, {'red': 2, 'green': 3, 'blue': 0}]))\n",
    "print(minimum_set([{'red': 3, 'green': 10, 'blue': 3}, {'red': 12, 'green': 3, 'blue': 0}]))\n",
    "print(minimum_set([{'red': 3, 'green': 10, 'blue': 2}, {'red': 13, 'green': 3, 'blue': 0}]))\n",
    "print(minimum_set([{'red': 3, 'green': 10, 'blue': 1}, {'red': 322, 'green': 3, 'blue': 0}]))"
   ]
  },
  {
   "cell_type": "code",
   "execution_count": 105,
   "id": "beed61c0",
   "metadata": {},
   "outputs": [
    {
     "name": "stdout",
     "output_type": "stream",
     "text": [
      "120\n",
      "6\n"
     ]
    }
   ],
   "source": [
    "import functools\n",
    "\n",
    "def multiply_of_min_set(min_set):\n",
    "    return functools.reduce(lambda new, so_far: new*so_far, min_set.values(), 1)\n",
    "\n",
    "\n",
    "print(multiply_of_min_set({'red': 3, 'green': 10, 'blue': 4}))\n",
    "print(multiply_of_min_set({'red': 1, 'green': 2, 'blue': 3}))"
   ]
  },
  {
   "cell_type": "code",
   "execution_count": 107,
   "id": "d4794926",
   "metadata": {},
   "outputs": [
    {
     "data": {
      "text/plain": [
       "54699"
      ]
     },
     "execution_count": 107,
     "metadata": {},
     "output_type": "execute_result"
    }
   ],
   "source": [
    "def answer_p2(some_data):\n",
    "    return sum([multiply_of_min_set(minimum_set(all_game_colours(line))) \n",
    "                for line in  some_data])\n",
    "answer_p2(datas)\n",
    "# 54699!!!"
   ]
  },
  {
   "cell_type": "code",
   "execution_count": null,
   "id": "481d0638",
   "metadata": {},
   "outputs": [],
   "source": []
  }
 ],
 "metadata": {
  "kernelspec": {
   "display_name": "Python 3 (ipykernel)",
   "language": "python",
   "name": "python3"
  },
  "language_info": {
   "codemirror_mode": {
    "name": "ipython",
    "version": 3
   },
   "file_extension": ".py",
   "mimetype": "text/x-python",
   "name": "python",
   "nbconvert_exporter": "python",
   "pygments_lexer": "ipython3",
   "version": "3.9.7"
  }
 },
 "nbformat": 4,
 "nbformat_minor": 5
}
