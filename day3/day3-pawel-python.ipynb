{
 "cells": [
  {
   "cell_type": "code",
   "execution_count": 9,
   "id": "61866bcb",
   "metadata": {},
   "outputs": [],
   "source": [
    "def load_file_lines(filename):\n",
    "    lines = []\n",
    "    file = open(filename)\n",
    "    for line in file:\n",
    "        lines.append(line)\n",
    "    file.close()\n",
    "    return lines\n",
    "\n",
    "datas = load_file_lines(\"./pawel.txt\")"
   ]
  },
  {
   "cell_type": "code",
   "execution_count": null,
   "id": "0d341d06",
   "metadata": {},
   "outputs": [],
   "source": [
    "def letter_to_number(string):\n",
    "    letter = string[0]\n",
    "    #     Lowercase item types a through z have priorities 1 through 26.\n",
    "    #     Uppercase item types A through Z have priorities 27 through 52.\n",
    "    if ord(letter) < 96:  # A-Z are ord numbers 65-90. shift to numbers 27-52 (by -96)\n",
    "        return ord(letter) - 38\n",
    "    else: # a-z are ord numbers 97-122. make them 1-26 (by -96)\n",
    "        return ord(letter) -96\n",
    "    "
   ]
  },
  {
   "cell_type": "code",
   "execution_count": null,
   "id": "10431d2a",
   "metadata": {},
   "outputs": [],
   "source": [
    "def intersection(list1, list2):\n",
    "#     could also be    return list(set(list1).intersection(list2))\n",
    "    return [\n",
    "        item_in_1\n",
    "        for item_in_1 in list1\n",
    "        for item_in_2 in list2\n",
    "        if item_in_1 == item_in_2\n",
    "    ]\n",
    "    "
   ]
  },
  {
   "cell_type": "code",
   "execution_count": 11,
   "id": "63fea71c",
   "metadata": {},
   "outputs": [
    {
     "data": {
      "text/plain": [
       "7980"
      ]
     },
     "execution_count": 11,
     "metadata": {},
     "output_type": "execute_result"
    }
   ],
   "source": [
    "def duplicate(contents):\n",
    "    contents = contents.strip(\" \\n\")\n",
    "    half_point = int(len(contents)/2)\n",
    "    compartment_1 = contents[0:half_point]\n",
    "    compartment_2 = contents[half_point:]\n",
    "    common = intersection(compartment_1,compartment_2)\n",
    "    return common[0]\n",
    "\n",
    "def duplicate_as_score(contents):\n",
    "    common_letter = duplicate(contents)\n",
    "    score = letter_to_number(common_letter)\n",
    "    return score\n",
    "\n",
    "def get_scores(file_lines):\n",
    "    scores = [\n",
    "        duplicate_as_score(line)\n",
    "        for line in file_lines\n",
    "    ]\n",
    "    return scores\n",
    "\n",
    "scores = get_scores(datas)\n",
    "sum(scores)\n",
    "# 7980"
   ]
  },
  {
   "cell_type": "code",
   "execution_count": null,
   "id": "ba018287",
   "metadata": {},
   "outputs": [],
   "source": []
  },
  {
   "cell_type": "code",
   "execution_count": 17,
   "id": "1f85c33a",
   "metadata": {},
   "outputs": [
    {
     "data": {
      "text/plain": [
       "52"
      ]
     },
     "execution_count": 17,
     "metadata": {},
     "output_type": "execute_result"
    }
   ],
   "source": []
  },
  {
   "cell_type": "code",
   "execution_count": 12,
   "id": "c0df9a6c",
   "metadata": {},
   "outputs": [],
   "source": [
    "def group_badge(contents_of_3):\n",
    "    for letter in contents_of_3[0]:\n",
    "        count0 = contents_of_3[0].count(letter) \n",
    "        count1 = contents_of_3[1].count(letter) \n",
    "        count2 = contents_of_3[2].count(letter) \n",
    "#         print (letter, count0,count1,count2)\n",
    "        if  count0 >0  and count1 >0 and count2 >0:\n",
    "            return letter\n",
    "     "
   ]
  },
  {
   "cell_type": "code",
   "execution_count": 13,
   "id": "8e0f5bf5",
   "metadata": {},
   "outputs": [
    {
     "data": {
      "text/plain": [
       "'r'"
      ]
     },
     "execution_count": 13,
     "metadata": {},
     "output_type": "execute_result"
    }
   ],
   "source": [
    "example = ['vJrwpWtwJgWrhcsFMMfFFhFp',\n",
    "'jqHRNqRjqzjGDLGLrsFMfFZSrLrFZsSL',\n",
    "'PmmdzqPrVvPwwTWBwg']\n",
    "group_badge(example)\n",
    "# 'r'"
   ]
  },
  {
   "cell_type": "code",
   "execution_count": null,
   "id": "00f47101",
   "metadata": {},
   "outputs": [],
   "source": []
  },
  {
   "cell_type": "code",
   "execution_count": 16,
   "id": "36911ba1",
   "metadata": {},
   "outputs": [
    {
     "data": {
      "text/plain": [
       "2881"
      ]
     },
     "execution_count": 16,
     "metadata": {},
     "output_type": "execute_result"
    }
   ],
   "source": [
    "def get_scores(file_lines):\n",
    "    backpacks = []\n",
    "    for line in file_lines:\n",
    "        backpacks.append(line.strip(\"\\n\"))\n",
    "    \n",
    "    group_badges = []\n",
    "    for start_index in range(0,len(backpacks),3):\n",
    "        group_badges.append(group_badge(backpacks[start_index:(start_index+3)]))\n",
    "    scores = [\n",
    "        letter_to_number(group_badge)\n",
    "        for group_badge in group_badges\n",
    "    ]\n",
    "    return scores\n",
    "\n",
    "scores = get_scores(datas)\n",
    "sum(scores)"
   ]
  },
  {
   "cell_type": "code",
   "execution_count": null,
   "id": "32f4b8a2",
   "metadata": {},
   "outputs": [],
   "source": []
  }
 ],
 "metadata": {
  "kernelspec": {
   "display_name": "Python 3 (ipykernel)",
   "language": "python",
   "name": "python3"
  },
  "language_info": {
   "codemirror_mode": {
    "name": "ipython",
    "version": 3
   },
   "file_extension": ".py",
   "mimetype": "text/x-python",
   "name": "python",
   "nbconvert_exporter": "python",
   "pygments_lexer": "ipython3",
   "version": "3.9.7"
  }
 },
 "nbformat": 4,
 "nbformat_minor": 5
}
