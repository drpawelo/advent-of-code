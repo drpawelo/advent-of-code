{
 "cells": [
  {
   "cell_type": "code",
   "execution_count": 46,
   "id": "63fea71c",
   "metadata": {},
   "outputs": [
    {
     "data": {
      "text/plain": [
       "7980"
      ]
     },
     "execution_count": 46,
     "metadata": {},
     "output_type": "execute_result"
    }
   ],
   "source": [
    "def letter_to_number(string):\n",
    "    letter = string[0]\n",
    "#     Lowercase item types a through z have priorities 1 through 26.\n",
    "#     Uppercase item types A through Z have priorities 27 through 52.\n",
    "    if ord(letter) < 96:  # A-Z so ord numbers 65-90. make them 27-52\n",
    "        return ord(letter) - 38\n",
    "    else: # a-z so ord numbers 97-122. make them 1-26\n",
    "        return ord(letter) -96\n",
    "    \n",
    "def duplicate(contents):\n",
    "    contents = contents.strip(\" \\n\")\n",
    "    half_point = int(len(contents)/2)\n",
    "    compartment_1 = contents[0:half_point]\n",
    "    compartment_2 = contents[half_point:]\n",
    "    common = list(set(compartment_1).intersection(compartment_2))\n",
    "    return common[0]\n",
    "\n",
    "def duplicate_as_number(contents):\n",
    "    common = duplicate(contents)\n",
    "    score = letter_to_number(common)\n",
    "    return score\n",
    "\n",
    "def load_file():\n",
    "    file_lines = open(\"./pawel.txt\")\n",
    "\n",
    "    scores = [\n",
    "        duplicate_as_number(line)\n",
    "        for line in file_lines\n",
    "    ]\n",
    "\n",
    "    file_lines.close()\n",
    "    return scores\n",
    "\n",
    "scores = load_file()\n",
    "sum(scores)"
   ]
  },
  {
   "cell_type": "code",
   "execution_count": null,
   "id": "ba018287",
   "metadata": {},
   "outputs": [],
   "source": []
  },
  {
   "cell_type": "code",
   "execution_count": 17,
   "id": "1f85c33a",
   "metadata": {},
   "outputs": [
    {
     "data": {
      "text/plain": [
       "52"
      ]
     },
     "execution_count": 17,
     "metadata": {},
     "output_type": "execute_result"
    }
   ],
   "source": []
  },
  {
   "cell_type": "code",
   "execution_count": 67,
   "id": "c0df9a6c",
   "metadata": {},
   "outputs": [],
   "source": [
    "def letter_to_number(string):\n",
    "    letter = string[0]\n",
    "#     Lowercase item types a through z have priorities 1 through 26.\n",
    "#     Uppercase item types A through Z have priorities 27 through 52.\n",
    "    if ord(letter) < 96:  # A-Z so ord numbers 65-90. make them 27-52\n",
    "        return ord(letter) - 38\n",
    "    else: # a-z so ord numbers 97-122. make them 1-26\n",
    "        return ord(letter) -96\n",
    "    \n",
    "def group_badge(contents_of_3):\n",
    "    for letter in contents_of_3[0]:\n",
    "        count0 = contents_of_3[0].count(letter) \n",
    "        count1 = contents_of_3[1].count(letter) \n",
    "        count2 = contents_of_3[2].count(letter) \n",
    "#         print (letter, count0,count1,count2)\n",
    "        if  count0 >0  and count1 >0 and count2 >0:\n",
    "            return letter\n",
    "     "
   ]
  },
  {
   "cell_type": "code",
   "execution_count": 68,
   "id": "8e0f5bf5",
   "metadata": {},
   "outputs": [
    {
     "data": {
      "text/plain": [
       "'r'"
      ]
     },
     "execution_count": 68,
     "metadata": {},
     "output_type": "execute_result"
    }
   ],
   "source": [
    "   \n",
    "example = ['vJrwpWtwJgWrhcsFMMfFFhFp',\n",
    "'jqHRNqRjqzjGDLGLrsFMfFZSrLrFZsSL',\n",
    "'PmmdzqPrVvPwwTWBwg']\n",
    "group_badge(example)"
   ]
  },
  {
   "cell_type": "code",
   "execution_count": null,
   "id": "758dcfe3",
   "metadata": {},
   "outputs": [],
   "source": []
  },
  {
   "cell_type": "code",
   "execution_count": null,
   "id": "f57b615a",
   "metadata": {},
   "outputs": [],
   "source": []
  },
  {
   "cell_type": "code",
   "execution_count": null,
   "id": "00f47101",
   "metadata": {},
   "outputs": [],
   "source": []
  },
  {
   "cell_type": "code",
   "execution_count": 69,
   "id": "36911ba1",
   "metadata": {},
   "outputs": [
    {
     "name": "stdout",
     "output_type": "stream",
     "text": [
      "['Q', 'L', 'B', 'z', 'j', 'R', 'N', 'j', 'P', 'S', 's', 'L', 'M', 't', 'z', 'D', 'N', 'C', 'B', 'l', 'J', 'N', 'h', 'P', 'B', 'T', 'F', 'd', 'D', 'N', 'W', 'Z', 'W', 'N', 'v', 'l', 'B', 'G', 'C', 'S', 'W', 'F', 'c', 'L', 'M', 'L', 'q', 'b', 's', 'M', 'M', 'c', 'm', 's', 'n', 'H', 'g', 'P', 'C', 'z', 'z', 'b', 'P', 't', 'q', 'L', 'J', 'w', 'M', 'D', 'W', 't', 'g', 'V', 'T', 'Q', 'W', 'Q', 'p', 'Z', 'h', 'r', 'q', 'H', 'q', 'F', 'S', 's', 'M', 'g', 'C', 'm', 'Z', 'G', 'r', 'N', 'j', 'q', 'c', 'j']\n"
     ]
    },
    {
     "data": {
      "text/plain": [
       "2881"
      ]
     },
     "execution_count": 69,
     "metadata": {},
     "output_type": "execute_result"
    }
   ],
   "source": [
    "def load_file():\n",
    "    file_lines = open(\"./pawel.txt\")\n",
    "    backpacks = []\n",
    "    for line in file_lines:\n",
    "        backpacks.append(line.strip(\"\\n\"))\n",
    "    \n",
    "    group_badges = []\n",
    "    for start_index in range(0,len(backpacks),3):\n",
    "        group_badges.append(group_badge(backpacks[start_index:(start_index+3)]))\n",
    "    print(group_badges)\n",
    "    scores = [\n",
    "        letter_to_number(group_badge)\n",
    "        for group_badge in group_badges\n",
    "    ]\n",
    "    file_lines.close()\n",
    "    return scores\n",
    "\n",
    "scores = load_file()\n",
    "sum(scores)"
   ]
  },
  {
   "cell_type": "code",
   "execution_count": 36,
   "id": "7ef4d2fe",
   "metadata": {},
   "outputs": [
    {
     "data": {
      "text/plain": [
       "52"
      ]
     },
     "execution_count": 36,
     "metadata": {},
     "output_type": "execute_result"
    }
   ],
   "source": []
  },
  {
   "cell_type": "code",
   "execution_count": null,
   "id": "7119cb18",
   "metadata": {},
   "outputs": [],
   "source": []
  }
 ],
 "metadata": {
  "kernelspec": {
   "display_name": "Python 3 (ipykernel)",
   "language": "python",
   "name": "python3"
  },
  "language_info": {
   "codemirror_mode": {
    "name": "ipython",
    "version": 3
   },
   "file_extension": ".py",
   "mimetype": "text/x-python",
   "name": "python",
   "nbconvert_exporter": "python",
   "pygments_lexer": "ipython3",
   "version": "3.9.7"
  }
 },
 "nbformat": 4,
 "nbformat_minor": 5
}
