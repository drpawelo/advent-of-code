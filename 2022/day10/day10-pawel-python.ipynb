{
 "cells": [
  {
   "cell_type": "code",
   "execution_count": 231,
   "id": "0747f326",
   "metadata": {},
   "outputs": [],
   "source": [
    "from IPython.display import clear_output\n",
    "import time"
   ]
  },
  {
   "cell_type": "code",
   "execution_count": 188,
   "id": "61866bcb",
   "metadata": {},
   "outputs": [],
   "source": [
    "def load_file_lines(filename):\n",
    "    lines = []\n",
    "    file = open(filename)\n",
    "    for line in file:\n",
    "        lines.append(line.rstrip(\"\\n\"))\n",
    "    file.close()\n",
    "    return lines\n",
    "\n",
    "datas = load_file_lines(\"./pawel.txt\")\n",
    "# datas = load_file_lines(\"./test.txt\")\n",
    "# datas"
   ]
  },
  {
   "cell_type": "code",
   "execution_count": 189,
   "id": "94be1b52",
   "metadata": {},
   "outputs": [
    {
     "data": {
      "text/plain": [
       "[0, 4]"
      ]
     },
     "execution_count": 189,
     "metadata": {},
     "output_type": "execute_result"
    }
   ],
   "source": [
    "# addx 4\n",
    "# noop\n",
    "def line_to_moves(line):\n",
    "    result = []\n",
    "    if line == 'noop':\n",
    "        result.append(0)\n",
    "    else:\n",
    "        result.append(0)\n",
    "        jump = int(line.replace(\"addx \",\"\"))\n",
    "        result.append(jump)\n",
    "    return result\n",
    "\n",
    "line_to_moves('addx 4')"
   ]
  },
  {
   "cell_type": "code",
   "execution_count": 190,
   "id": "c39c24b9",
   "metadata": {},
   "outputs": [],
   "source": [
    "def text_lines_to_moves(textlines):\n",
    "    moves = []\n",
    "    for line in textlines:\n",
    "        moves.extend(line_to_moves(line))\n",
    "    return moves\n",
    "\n",
    "moves = text_lines_to_commands(datas)"
   ]
  },
  {
   "cell_type": "code",
   "execution_count": 191,
   "id": "7a588fc0",
   "metadata": {},
   "outputs": [],
   "source": [
    "# signal strength (the cycle number multiplied by the value of the X register) \n",
    "# during the 20th cycle and every 40 cycles after that (that is, during the \n",
    "# 20th, 60th, 100th, 140th, 180th, and 220th cycles)\n",
    "def value_at(moves, which_move):\n",
    "    strength = 1\n",
    "    for move_index in range(which_move-1):\n",
    "        strength+= moves[move_index]\n",
    "    return strength"
   ]
  },
  {
   "cell_type": "code",
   "execution_count": 192,
   "id": "4ca1d064",
   "metadata": {},
   "outputs": [],
   "source": [
    "\n",
    "def signal_strength_at(moves, which_move):\n",
    "    return value_at(moves, which_move) * which_move"
   ]
  },
  {
   "cell_type": "code",
   "execution_count": 193,
   "id": "358db364",
   "metadata": {},
   "outputs": [
    {
     "name": "stdout",
     "output_type": "stream",
     "text": [
      "4620\n"
     ]
    }
   ],
   "source": [
    "# test data:\n",
    "# addx 15\n",
    "# addx -11\n",
    "# addx 6\n",
    "# addx -3\n",
    "# addx 5\n",
    "# addx -1\n",
    "# addx -8\n",
    "# for index in range(15):\n",
    "#     print(signal_strength_at(moves, index))\n",
    "print(signal_strength_at(moves, 220))"
   ]
  },
  {
   "cell_type": "code",
   "execution_count": 194,
   "id": "f138ae39",
   "metadata": {},
   "outputs": [],
   "source": [
    "def signal_strengths_at_indexes(moves, indexes):\n",
    "    return [\n",
    "        signal_strength_at(moves, index)\n",
    "        for index in indexes]\n",
    "\n",
    "strengths_we_are_after = signal_strengths_at_indexes(moves, [0,1,2,3,4])"
   ]
  },
  {
   "cell_type": "code",
   "execution_count": 195,
   "id": "bf2f5aba",
   "metadata": {},
   "outputs": [
    {
     "name": "stdout",
     "output_type": "stream",
     "text": [
      "[420, 1440, 1700, 4060, 3780, 4620]\n",
      "16020\n"
     ]
    }
   ],
   "source": [
    "signals_that_matter =  signal_strengths_at_indexes(moves, [20,60,100,140,180,220])\n",
    "print(signals_that_matter)\n",
    "print(sum(signals_that_matter))\n",
    "# part 1: 16020"
   ]
  },
  {
   "cell_type": "code",
   "execution_count": 196,
   "id": "1ad60679",
   "metadata": {},
   "outputs": [
    {
     "name": "stdout",
     "output_type": "stream",
     "text": [
      "False\n",
      "True\n",
      "True\n",
      "True\n",
      "False\n"
     ]
    }
   ],
   "source": [
    "def number_is_close(number, target):\n",
    "    return number >=  target - 1 and number <= target + 1\n",
    "\n",
    "print(number_is_close(10,8))\n",
    "print(number_is_close(10,9))\n",
    "print(number_is_close(10,10))\n",
    "print(number_is_close(10,11))\n",
    "print(number_is_close(10,12))"
   ]
  },
  {
   "cell_type": "code",
   "execution_count": 197,
   "id": "7fea0610",
   "metadata": {},
   "outputs": [
    {
     "name": "stdout",
     "output_type": "stream",
     "text": [
      "...###..................................\n"
     ]
    }
   ],
   "source": [
    "#part 2\n",
    "def show_pixel_position(pixel_index):\n",
    "    result = \"\"\n",
    "    for index in range(40):\n",
    "        if  number_is_close(index, pixel_index):\n",
    "            result += '#'\n",
    "        else:\n",
    "            result += \".\"\n",
    "    print(result)\n",
    "            \n",
    "show_pixel_position(4)"
   ]
  },
  {
   "cell_type": "code",
   "execution_count": 198,
   "id": "3be389c3",
   "metadata": {},
   "outputs": [],
   "source": [
    "# signal strength (the cycle number multiplied by the value of the X register) \n",
    "# during the 20th cycle and every 40 cycles after that (that is, during the \n",
    "# 20th, 60th, 100th, 140th, 180th, and 220th cycles)\n",
    "def value_at(moves, which_move):\n",
    "    strength = 1\n",
    "    for move_index in range(which_move):\n",
    "        strength+= moves[move_index]\n",
    "    return strength"
   ]
  },
  {
   "cell_type": "code",
   "execution_count": 199,
   "id": "5970241c",
   "metadata": {},
   "outputs": [
    {
     "data": {
      "text/plain": [
       "True"
      ]
     },
     "execution_count": 199,
     "metadata": {},
     "output_type": "execute_result"
    }
   ],
   "source": [
    "def was_pixel_in_index(moves, index, start_of_line):\n",
    "    signal = value_at(moves,index )\n",
    "    is_sprit_incurrent_index = number_is_close(index-start_of_line, signal)\n",
    "#     show_pixel_position(signal)\n",
    "#     print(f\"[{index}] {signal} {is_sprit_incurrent_index}\")\n",
    "    return is_sprit_incurrent_index\n",
    "    \n",
    "was_pixel_in_index(moves, 2,0)"
   ]
  },
  {
   "cell_type": "code",
   "execution_count": 200,
   "id": "3508bf1c",
   "metadata": {},
   "outputs": [],
   "source": [
    "for index in range(5):\n",
    "    was_pixel_in_index(moves, index,0)"
   ]
  },
  {
   "cell_type": "code",
   "execution_count": 201,
   "id": "31b32dbf",
   "metadata": {},
   "outputs": [
    {
     "name": "stdout",
     "output_type": "stream",
     "text": [
      "False\n",
      "True\n",
      "False\n",
      "False\n"
     ]
    }
   ],
   "source": [
    "def is_index_end_of_line(index):\n",
    "    return index != 0 and (index +1)  % 40 == 0\n",
    "\n",
    "print(is_index_end_of_line(38))\n",
    "print(is_index_end_of_line(39))\n",
    "print(is_index_end_of_line(40))\n",
    "print(is_index_end_of_line(41))"
   ]
  },
  {
   "cell_type": "code",
   "execution_count": 202,
   "id": "040176c7",
   "metadata": {},
   "outputs": [
    {
     "name": "stdout",
     "output_type": "stream",
     "text": [
      "####..##..####.#..#.####..##..#....###..\n",
      "#....#..#....#.#..#....#.#..#.#....#..#.\n",
      "###..#......#..#..#...#..#..#.#....#..#.\n",
      "#....#.....#...#..#..#...####.#....###..\n",
      "#....#..#.#....#..#.#....#..#.#....#.#..\n",
      "####..##..####..##..####.#..#.####.#..#.\n",
      "\n"
     ]
    }
   ],
   "source": [
    "def output_to_screen(moves):\n",
    "    result = \"\"\n",
    "    start_of_line = 0\n",
    "    for index in range(240):\n",
    "        result += \"#\" if was_pixel_in_index(moves,index, start_of_line) else \".\"\n",
    "        if is_index_end_of_line(index ):\n",
    "            result += '\\n'\n",
    "            start_of_line += 40\n",
    "            \n",
    "    return result\n",
    "\n",
    "print(output_to_screen(moves))"
   ]
  },
  {
   "cell_type": "code",
   "execution_count": null,
   "id": "0f9c1696",
   "metadata": {},
   "outputs": [],
   "source": []
  },
  {
   "cell_type": "code",
   "execution_count": null,
   "id": "9bdade1b",
   "metadata": {},
   "outputs": [],
   "source": []
  }
 ],
 "metadata": {
  "kernelspec": {
   "display_name": "Python 3 (ipykernel)",
   "language": "python",
   "name": "python3"
  },
  "language_info": {
   "codemirror_mode": {
    "name": "ipython",
    "version": 3
   },
   "file_extension": ".py",
   "mimetype": "text/x-python",
   "name": "python",
   "nbconvert_exporter": "python",
   "pygments_lexer": "ipython3",
   "version": "3.9.7"
  }
 },
 "nbformat": 4,
 "nbformat_minor": 5
}
