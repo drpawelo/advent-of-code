{
 "cells": [
  {
   "cell_type": "code",
   "execution_count": 453,
   "id": "0747f326",
   "metadata": {},
   "outputs": [],
   "source": [
    "from IPython.display import clear_output\n",
    "import time"
   ]
  },
  {
   "cell_type": "code",
   "execution_count": 236,
   "id": "25febc3e",
   "metadata": {},
   "outputs": [
    {
     "data": {
      "text/plain": [
       "['abccccccccccccccccaaccccccccccccccccccccaaaaaaaaaaaaacccccccccccccccccccccccccccccccccccccccccccccccccccccccaaaaaa',\n",
       " 'abcccccccccccccaaaaaccccccccccccccccccccaaaaaaaaaaaaaccccccccccccccccccccccccccccccccccccccccccccccccccccccccaaaaa',\n",
       " 'abccccccccccccccaaaaaccccccccccccccaaaaacccaaaaaacccccaaccccccccccccccccccccccccccccccccccccccccccccccccccccccaaaa',\n",
       " 'abccccccccccccccaaaaacccccccccaacccaaaaacccaaaaaaaccccaaaacaacaaccccccccccccccccccccccccaaaccccaaaccccccccccccaaaa',\n",
       " 'abcccccccccccccaaaaacccccccaaaaaccaaaaaacccaaaaaaaacaaaaaacaaaaaccccccccccccccccccccccccaaacccaaaaccccccccccccaaac',\n",
       " 'abccccccaacaaaccccaaccccccccaaaaacaaaaaaccaaaacaaaacaaaaaccaaaaaaccccccccccccccccccccccccaaaaaaaacccccccccccccaacc',\n",
       " 'abccccccaaaaaaccccccccccccccaaaaacaaaaaaccaaaaccaaaacaaaaacaaaaaacccccccccccccccccccccccaaaaaaaaaccccccccccccccccc',\n",
       " 'abccccccaaaaaacccccccccccccaaaaaccccaaccccaacccccaaccaacaacaaaaaccccccccccccccccccccccccccaaakkkkllllcccaaaccccccc',\n",
       " 'abccccccaaaaaaacccccccccccccccaaccccaacccccccccccccccccccccccaaaccccccaaaacccccccccjjjjkkkkkkkkkkllllccccaacaccccc',\n",
       " 'abcccccaaaaaaaacccccaaccccccccccccccaaaaaaccccccccccccccccccaaccccccccaaaaccccccccjjjjjkkkkkkkkkppllllcccaaaaacccc',\n",
       " 'abcccccaaaaaaaaccaaaacccccccccccccccaaaaaccccccccccccccccaacaaccccccccaaaacccccccjjjjjjjkkkkkppppppplllccaaaaacccc',\n",
       " 'abccccccccaaaccccaaaaaacccccccccccaaaaaaaccccccccccccccccaaaaacccccccccaacccccccjjjjoooooooppppppppplllcccaaaccccc',\n",
       " 'abccccccccaaccccccaaaaaccccaacccccaaaaaaaaccccaaacccccccccaaaaaaacccccccccccccccjjjooooooooppppuuppppllcccaaaccccc',\n",
       " 'abccccccaacccccccaaaaacccccaaaccaaaaaaaaaaccaaaaaaccccccaaaaaaaaaacaaaccccccccccjjjoooouuuoopuuuuupppllcccaaaccccc',\n",
       " 'abacccccaaccccccccccaacccccaaaaaaaccaaaaaaccaaaaaaccccccaaaaaccaaaaaaaccccaaccccjjoootuuuuuuuuuuuuvpqlllcccccccccc',\n",
       " 'abaccaaaaaaaacccccccccccccccaaaaaaccaacccccccaaaaacccccccacaaaccaaaaaaccaaaacaccjjooottuuuuuuuxyuvvqqljjccddcccccc',\n",
       " 'abcccaaaaaaaaccccccccccccaaaaaaaaacaacaaccccaaaaaccccccccccaaaaaaaaaacccaaaaaacciijootttxxxuuxyyyvvqqjjjjdddcccccc',\n",
       " 'abcccccaaaaccccaaacccccccaaaaaaaaacaaaaaccccaaaaaccccccccccccaaaaaaaaacccaaaaccciiinntttxxxxxxyyvvqqqqjjjddddccccc',\n",
       " 'abccccaaaaaccccaaaaacccccaaaaaaaaaaaaaaaaccccccccccccccccccccaaaaaaaaaaccaaaaccciiinntttxxxxxxyyvvvqqqqjjjdddccccc',\n",
       " 'abccccaaaaaaccaaaaaccccccccaaaaaaaaaaaaaacccccccccccccccccccccccaaacaaacaacaaccciiinnnttxxxxxyyyvvvvqqqqjjjdddcccc',\n",
       " 'SbccccaaccaaccaaaaacccccccccaaaaaaaaaaaaacccccccccccccccccccccccaaacccccccccccciiinnntttxxxEzzyyyyvvvqqqjjjdddcccc',\n",
       " 'abcccccccccccccaaaaacccccccaaaaaaaaacaaaccccccccccccccccccccccccaaccccccccccccciiinnnttxxxxyyyyyyyyvvvqqqjjjdddccc',\n",
       " 'abcccccccccccccaaccccccccccaaaaaaaaccccccccccccccccccccccccccccccccccccccccccciiinnntttxxyyyyyyyyyvvvvqqqjjjdddccc',\n",
       " 'abccccccccccccccccccccccccaaaaaaaacccccccccccccccccccccccccccccccccccccccccccciiinntttxxxwwwyyywwvvvvrqqjjjjdddccc',\n",
       " 'abcccccccccccccccccccccccccccaaaaaaccccccccccccccccccccccccccccccccccccccccccciinnntttxwwwwwyyywwvvvrrrqkkkeddcccc',\n",
       " 'abcccccccccccccccccccccccccccaaaaaaccccccccccccccccccccccccccccccccccccccccccchhnnntttsswwswwyywwrrrrrrkkkkeeecccc',\n",
       " 'abcccccccccccccccccccccccccccaaaaaacccccccccccccccccccaccccccccccccaaacccccccchhhnmmssssssswwwwwwrrrkkkkkeeeeecccc',\n",
       " 'abcccccccccccccccccccccccccccccaaacccccccccccccccccccaaccccccccccaaaaaacccccaahhhmmmmmsssssswwwwrrrkkkkkeeeeeccccc',\n",
       " 'abaacccccccccccccaccccccccccccccccccccccccccccccccaaaaacaacccccccaaaaaacaaaaaahhhhmmmmmmmmssswwwrrkkkkeeeeeacccccc',\n",
       " 'abacccccccccccccaaaaaaaaccccccccaaacccccccaaccccccaaaaaaaacccccccaaaaaacaaaaaaahhhhmmmmmmmmsssrrrrkkkeeeeeaacccccc',\n",
       " 'abaaaccccaaccccccaaaaaacccccccccaaacccaacaaaccccccccaaaacccccccccaaaaacccaaaaaaahhhhhhhmmmmlsssrrllkfeeeeaaaaacccc',\n",
       " 'abaaaccaaaaccccccaaaaaacccccccccaaaaaaaaaaaaaacccccaaaaacccccccccaaaaacccaaaaaaachhhhhgggmllsssrrllkffeaaaaaaacccc',\n",
       " 'abaacccaaaaaacccaaaaaaaacccccaaaaaaaaaaaaaaaaacccccaacaaacccccccccccccccaaaaaacccccchggggglllllllllfffaaaaaaaacccc',\n",
       " 'abaaccccaaaacccaaaaaaaaaaccccaaaaaaaaacaaaaaaaccaccaccaaacccccccccccccccaaaaaacccccccccgggglllllllffffaaaaaacccccc',\n",
       " 'abcccccaaaaacccaaaaaaaaaacccccaaaaaaaccaaaaacccaaaccccccccccccccccccccccccccaacccccccccagggglllllffffccccaaacccccc',\n",
       " 'abcccccaacaaccccccaaaaacaccaacccaaaaaaaaaaaaaccaaacccccccccccccccccccccccccccccccccccccaagggggffffffcccccccccccccc',\n",
       " 'abcccccccccccaaaaaaaaacccccaaccaaaaaaaccaaaaacaaaaccccccccccccccccccccccccccccccccccccaaaacgggfffffccccccccccccccc',\n",
       " 'abcccccccccccaaaaacaacccaaaaaaaaaaccaacccaaaaaaaacccaaccccccccccccccccccccccccccccccccccccccggfffccccccccccccaaaca',\n",
       " 'abccccccccccaaaaaaccccccaaaaaaaaacccccccccaaaaaaaaaaaacccccccccccccaaaccccccccccccccccccccccaaaccccccccccccccaaaaa',\n",
       " 'abccccccccccaaaaaaccccccccaaaacccccccccccccaaaaaaaaaaaaccccccccccccaaaaccccccccccccccccccccccaaaccccccccccccccaaaa',\n",
       " 'abcccccccccccaaaaacccccccaaaaaaccccccccccaaaaaaaaaaaaaaccccccccccccaaaaccccccccccccccccccccccccccccccccccccccaaaaa']"
      ]
     },
     "execution_count": 236,
     "metadata": {},
     "output_type": "execute_result"
    }
   ],
   "source": [
    "def load_file_lines(filename):\n",
    "    lines = []\n",
    "    file = open(filename)\n",
    "    for line in file:\n",
    "        lines.append(line.rstrip(\"\\n\"))\n",
    "    file.close()\n",
    "    return lines\n",
    "\n",
    "datas = load_file_lines(\"./pawel.txt\")\n",
    "# datas = load_file_lines(\"./test.txt\")\n",
    "datas"
   ]
  },
  {
   "cell_type": "code",
   "execution_count": 154,
   "id": "4ed45ebb",
   "metadata": {},
   "outputs": [
    {
     "data": {
      "text/plain": [
       "[['0', '0', '1', '2'], ['0', '1', '2', '0'], ['1', '2', '3', '0']]"
      ]
     },
     "execution_count": 154,
     "metadata": {},
     "output_type": "execute_result"
    }
   ],
   "source": [
    "def data_into_grid(raw_data):\n",
    "    result = []\n",
    "    for row_index in range(len(raw_data)):\n",
    "        new_row = []\n",
    "        for column_index in range(len(raw_data[row_index])):\n",
    "            new_row.append(raw_data[row_index][column_index])\n",
    "        result.append(new_row)\n",
    "    return result\n",
    "\n",
    "test_datas= ['sabqponm', 'abcryxxl', 'accszExk', 'acctuvwj', 'aSdefghi']\n",
    "data_into_grid(test_datas)"
   ]
  },
  {
   "cell_type": "code",
   "execution_count": 204,
   "id": "8d22c2f8",
   "metadata": {},
   "outputs": [
    {
     "name": "stdout",
     "output_type": "stream",
     "text": [
      "2 50\n",
      "3 51\n",
      "4 52\n",
      "5 53\n",
      "6 54\n",
      "7 55\n",
      "8 56\n",
      "9 57\n",
      ": 58\n",
      "; 59\n",
      "< 60\n",
      "= 61\n",
      "> 62\n",
      "? 63\n",
      "@ 64\n",
      "A 65\n",
      "B 66\n",
      "C 67\n",
      "D 68\n",
      "E 69\n",
      "F 70\n",
      "G 71\n",
      "H 72\n",
      "I 73\n",
      "J 74\n",
      "K 75\n",
      "L 76\n",
      "M 77\n",
      "N 78\n",
      "O 79\n",
      "P 80\n",
      "Q 81\n",
      "R 82\n",
      "S 83\n",
      "T 84\n",
      "U 85\n",
      "V 86\n",
      "W 87\n",
      "X 88\n",
      "Y 89\n",
      "Z 90\n",
      "[ 91\n",
      "\\ 92\n",
      "] 93\n",
      "^ 94\n",
      "_ 95\n",
      "` 96\n",
      "a 97\n",
      "b 98\n",
      "c 99\n",
      "d 100\n",
      "e 101\n",
      "f 102\n",
      "g 103\n",
      "h 104\n",
      "i 105\n",
      "j 106\n",
      "k 107\n",
      "l 108\n",
      "m 109\n",
      "n 110\n",
      "o 111\n",
      "p 112\n",
      "q 113\n",
      "r 114\n",
      "s 115\n",
      "t 116\n",
      "u 117\n",
      "v 118\n",
      "w 119\n",
      "x 120\n",
      "y 121\n",
      "z 122\n",
      "{ 123\n",
      "| 124\n",
      "} 125\n",
      "~ 126\n",
      " 127\n",
      " 128\n",
      " 129\n"
     ]
    }
   ],
   "source": [
    "for number in range(50,130):\n",
    "    print(chr(number),number)"
   ]
  },
  {
   "cell_type": "code",
   "execution_count": 212,
   "id": "9c129e73",
   "metadata": {},
   "outputs": [
    {
     "name": "stdout",
     "output_type": "stream",
     "text": [
      "A\n",
      "X\n",
      "Y\n",
      "Z\n",
      "A\n",
      "B\n",
      "C\n",
      "D\n",
      "E\n",
      "F\n",
      "G\n",
      "D\n",
      "E\n",
      "F\n",
      "G\n"
     ]
    }
   ],
   "source": [
    "def number_to_char(number):\n",
    "    return chr(number % 26 + 65)\n",
    "\n",
    "print(number_to_char(0))\n",
    "print(number_to_char(23))\n",
    "print(number_to_char(24))\n",
    "print(number_to_char(25))\n",
    "print(number_to_char(26))\n",
    "print(number_to_char(27))\n",
    "print(number_to_char(28))\n",
    "print(number_to_char(29))\n",
    "print(number_to_char(30))\n",
    "print(number_to_char(31))\n",
    "print(number_to_char(32))\n",
    "\n",
    "print(number_to_char(55))\n",
    "print(number_to_char(56))\n",
    "print(number_to_char(57))\n",
    "print(number_to_char(58))"
   ]
  },
  {
   "cell_type": "code",
   "execution_count": 213,
   "id": "3fb4c80f",
   "metadata": {},
   "outputs": [
    {
     "name": "stdout",
     "output_type": "stream",
     "text": [
      "saSqponm\n",
      "abcryxxl\n",
      "accszExk\n",
      "acctuvwj\n",
      "aSdefghi\n",
      "\n",
      "ABCD\n",
      "FGHA\n",
      "\n"
     ]
    }
   ],
   "source": [
    "def show_map(pixels):\n",
    "    result = \"\"\n",
    "    for row in pixels:\n",
    "        for item in row:\n",
    "            item_to_add = str(item) if type(item) is str else number_to_char(item)\n",
    "            result += item_to_add\n",
    "        result += \"\\n\"\n",
    "    print(result)\n",
    "    \n",
    "test_datas= ['saSqponm', 'abcryxxl', 'accszExk', 'acctuvwj', 'aSdefghi']\n",
    "grid = data_into_grid(test_datas)\n",
    "show_map(grid)\n",
    "\n",
    "grid = [[0,1,2,3],[5,6,7,0]]\n",
    "show_map(grid)"
   ]
  },
  {
   "cell_type": "code",
   "execution_count": 214,
   "id": "42a23156",
   "metadata": {},
   "outputs": [
    {
     "data": {
      "text/plain": [
       "57"
      ]
     },
     "execution_count": 214,
     "metadata": {},
     "output_type": "execute_result"
    }
   ],
   "source": [
    "# chr(122)\n",
    "122-65"
   ]
  },
  {
   "cell_type": "code",
   "execution_count": null,
   "id": "08ae5fda",
   "metadata": {},
   "outputs": [],
   "source": [
    "def find_all_position(pixels, letter):\n",
    "    all_positions = []\n",
    "    for row_index in range(len(pixels)):\n",
    "        for col_index in range(len(pixels[row_index])) :\n",
    "            if pixels[row_index][col_index] == letter:\n",
    "                all_positions.append( [col_index, row_index] )\n",
    "                \n",
    "    return all_positions\n",
    "\n",
    "find_all_position(grid, 'a')"
   ]
  },
  {
   "cell_type": "code",
   "execution_count": 215,
   "id": "28bfff6d",
   "metadata": {},
   "outputs": [
    {
     "data": {
      "text/plain": [
       "[2, 0]"
      ]
     },
     "execution_count": 215,
     "metadata": {},
     "output_type": "execute_result"
    }
   ],
   "source": [
    "def find_position(pixels, letter):\n",
    "    for row_index in range(len(pixels)):\n",
    "        for col_index in range(len(pixels[row_index])) :\n",
    "            if pixels[row_index][col_index] == letter:\n",
    "                return [col_index, row_index]\n",
    "        \n",
    "test_datas= ['saSqponm', 'abcryxxl', 'accszExk', 'acctuvwj', 'aSdefghi']\n",
    "grid = data_into_grid(test_datas)\n",
    "find_position(grid, \"S\")"
   ]
  },
  {
   "cell_type": "code",
   "execution_count": 216,
   "id": "a07ef02b",
   "metadata": {},
   "outputs": [
    {
     "name": "stdout",
     "output_type": "stream",
     "text": [
      "[0, 20] [91, 20]\n"
     ]
    }
   ],
   "source": [
    "start_point = find_position(datas,'S')\n",
    "end_point = find_position(datas,'E')\n",
    "print(start_point, end_point)"
   ]
  },
  {
   "cell_type": "code",
   "execution_count": 217,
   "id": "d9db37c1",
   "metadata": {},
   "outputs": [
    {
     "name": "stdout",
     "output_type": "stream",
     "text": [
      "????????\n",
      "????????\n",
      "????????\n",
      "????????\n",
      "????????\n",
      "????????\n",
      "????????\n",
      "\n"
     ]
    }
   ],
   "source": [
    "def empty_grid_of_same_size(some_grid):\n",
    "    result = []\n",
    "    for row_index in range(len(some_grid)):\n",
    "        new_row = []\n",
    "        for column_index in range(len(some_grid[row_index])):\n",
    "            new_row.append('?')\n",
    "        result.append(new_row)\n",
    "    return result\n",
    "\n",
    "test_datas= ['sabqponm', 'abcryxxl', 'accszExk', 'acctuvwj', 'aSdefghi','aSdefghi','aSdefghi']\n",
    "grid = data_into_grid(test_datas)\n",
    "show_map(empty_grid_of_same_size(grid))"
   ]
  },
  {
   "cell_type": "code",
   "execution_count": 218,
   "id": "b01b65f3",
   "metadata": {},
   "outputs": [
    {
     "name": "stdout",
     "output_type": "stream",
     "text": [
      "sabqponm\n",
      "abcryxxl\n",
      "accszExk\n",
      "aXctuvwj\n",
      "aSdefghi\n",
      "aSdefghi\n",
      "aSdefghi\n",
      "\n",
      "s\n",
      "X\n"
     ]
    }
   ],
   "source": [
    "def set_value(pixels, position, symbol):\n",
    "    pixels[position[1]][position[0]] = symbol \n",
    "    return pixels\n",
    "\n",
    "def get_value(pixels, position):\n",
    "    return pixels[position[1]][position[0]]\n",
    "\n",
    "test_datas= ['sabqponm', 'abcryxxl', 'accszExk', 'acctuvwj', 'aSdefghi','aSdefghi','aSdefghi']\n",
    "grid = data_into_grid(test_datas)\n",
    "changed_grid = set_value(grid, [1,3], 'X')\n",
    "show_map(changed_grid)\n",
    "\n",
    "print(get_value(changed_grid, [0,0]))\n",
    "print(get_value(changed_grid, [1,3]))"
   ]
  },
  {
   "cell_type": "code",
   "execution_count": 219,
   "id": "a3e112a5",
   "metadata": {},
   "outputs": [
    {
     "name": "stdout",
     "output_type": "stream",
     "text": [
      "sabqponm\n",
      "abcryxxl\n",
      "accszExk\n",
      "acctuvwj\n",
      "aSdefghi\n",
      "aSdefghi\n",
      "aSdefghi\n",
      "\n",
      "[[2, 3], [4, 3], [3, 2], [3, 4]]\n",
      "[[1, 3], [0, 2], [0, 4]]\n",
      "[[2, 0], [4, 0], [3, 1]]\n",
      "[[1, 0], [0, 1]]\n",
      "[[2, 6], [4, 6], [3, 5]]\n",
      "[[6, 3], [7, 2], [7, 4]]\n",
      "[[6, 6], [7, 5]]\n"
     ]
    }
   ],
   "source": [
    "def get_neighbours_of(pixels, position):\n",
    "    x = position[0]\n",
    "    y = position[1]\n",
    "    x_max = len(pixels[0])-1\n",
    "    y_max = len(pixels) -1\n",
    "    \n",
    "    left = [x -1 if x > 0 else 0 , y]\n",
    "    right = [x +1 if x < x_max else x_max, y]\n",
    "    up = [x,y -1 if y > 0 else 0]\n",
    "    down = [x , y+1 if y < y_max else y_max]\n",
    "    return [\n",
    "        neighbour\n",
    "        for neighbour in [left, right, up, down]\n",
    "        if neighbour != position\n",
    "    ]\n",
    "\n",
    "test_datas= ['sabqponm', 'abcryxxl', 'accszExk', 'acctuvwj', 'aSdefghi','aSdefghi','aSdefghi']\n",
    "grid = data_into_grid(test_datas)\n",
    "show_map(grid)\n",
    "print(get_neighbours_of(grid, [3,3]))\n",
    "print(get_neighbours_of(grid, [0,3]))\n",
    "print(get_neighbours_of(grid, [3,0]))\n",
    "print(get_neighbours_of(grid, [0,0]))\n",
    "print(get_neighbours_of(grid, [3,6]))\n",
    "print(get_neighbours_of(grid, [7,3]))\n",
    "print(get_neighbours_of(grid, [7,6]))"
   ]
  },
  {
   "cell_type": "code",
   "execution_count": 220,
   "id": "7e47cf7a",
   "metadata": {},
   "outputs": [
    {
     "data": {
      "text/plain": [
       "[[1, 2], [3, 4]]"
      ]
     },
     "execution_count": 220,
     "metadata": {},
     "output_type": "execute_result"
    }
   ],
   "source": [
    "def only_unique(list_of_lists):\n",
    "    uniques = []\n",
    "    for sublist in list_of_lists:\n",
    "        if sublist not in uniques:\n",
    "            uniques.append(sublist)\n",
    "    return uniques\n",
    "\n",
    "only_unique([[1,2],[1,2],[3,4]])"
   ]
  },
  {
   "cell_type": "code",
   "execution_count": 241,
   "id": "4e344fec",
   "metadata": {},
   "outputs": [],
   "source": [
    "def create_grid_of_distances(pixels):\n",
    "    start_point = find_position(pixels,'S')\n",
    "    pixels = set_value(pixels, start_point, 'a')\n",
    "\n",
    "    end_point = find_position(pixels,'E')\n",
    "    distances_grid = empty_grid_of_same_size(pixels)\n",
    "    distances_grid = set_value(distances_grid, start_point, 0)\n",
    "\n",
    "    tiles_to_check = [start_point]\n",
    "    neighbours_checked = []   \n",
    "\n",
    "    while len(tiles_to_check) > 0:\n",
    "        tile_now = tiles_to_check[0]\n",
    "        next_positions_to_inspect = get_neighbours_of( pixels, tile_now)\n",
    "        letter_being_checked = get_value(pixels, tile_now)\n",
    "        height_being_checked = ord(letter_being_checked)\n",
    "        for neighbour in next_positions_to_inspect:\n",
    "            letter_neighbour = get_value(pixels, neighbour)\n",
    "            height_neighbour = ord(letter_neighbour) \n",
    "        \n",
    "            if neighbour == end_point:\n",
    "                distances_grid = set_value(distances_grid, neighbour, int(get_value(distances_grid, tile_now)) + 1) \n",
    "                print(f'FOUND in {int(get_value(distances_grid, tile_now)) + 1} steps')\n",
    "                return int(get_value(distances_grid, tile_now)) + 1\n",
    "                \n",
    "            neighbour_distance = get_value(distances_grid, neighbour) \n",
    "            neighbour_is_unknown_or_worse = neighbour_distance == '?' or neighbour_distance > int(get_value(distances_grid, tile_now)) +1\n",
    "            neighbour_is_climbable = height_neighbour <= height_being_checked + 1\n",
    "            \n",
    "            if neighbour_is_unknown_or_worse and neighbour_is_climbable:\n",
    "                distances_grid = set_value(distances_grid, neighbour, int(get_value(distances_grid, tile_now)) + 1) \n",
    "                tiles_to_check.append(neighbour)\n",
    "                tiles_to_check = only_unique(tiles_to_check)\n",
    "            neighbours_checked.append(neighbour)\n",
    "        tiles_to_check.pop(0)\n",
    "    return 0\n",
    "    \n",
    "# test_datas= ['Sababcde', 'azaacxxl', 'acfbzExk', 'acccdefj', 'afdefghi','abdefghi','agdefghi']\n",
    "# grid = data_into_grid(test_datas)"
   ]
  },
  {
   "cell_type": "code",
   "execution_count": 242,
   "id": "d007cd87",
   "metadata": {},
   "outputs": [],
   "source": [
    "def run_the_algoritm():\n",
    "    distances = []\n",
    "\n",
    "    grid = data_into_grid(datas)\n",
    "    start_point = find_position(grid,'S')\n",
    "    grid = set_value(grid, start_point, 'a')\n",
    "\n",
    "    for a_position in find_all_position(grid, 'a'):\n",
    "        grid = set_value(grid, a_position, 'S')\n",
    "        distances.append(create_grid_of_distances(grid))\n",
    "    # show_map(grid)\n",
    "    # show_map(distances)\n",
    "#     print(distances)\n",
    "    dist_no_0 = [distance\n",
    "                for distance in distances\n",
    "                if distance != 0]\n",
    "    print(dist_no_0)\n",
    "\n",
    "    return min(dist_no_0)\n",
    "    "
   ]
  },
  {
   "cell_type": "code",
   "execution_count": 243,
   "id": "07d790fb",
   "metadata": {},
   "outputs": [
    {
     "name": "stdout",
     "output_type": "stream",
     "text": [
      "FOUND in 445 steps\n",
      "FOUND in 444 steps\n",
      "FOUND in 443 steps\n",
      "FOUND in 442 steps\n",
      "FOUND in 441 steps\n",
      "FOUND in 440 steps\n",
      "FOUND in 439 steps\n",
      "FOUND in 438 steps\n",
      "FOUND in 437 steps\n",
      "FOUND in 436 steps\n",
      "FOUND in 435 steps\n",
      "FOUND in 434 steps\n",
      "FOUND in 433 steps\n",
      "FOUND in 432 steps\n",
      "FOUND in 431 steps\n",
      "FOUND in 431 steps\n",
      "FOUND in 430 steps\n",
      "FOUND in 430 steps\n",
      "FOUND in 429 steps\n",
      "FOUND in 428 steps\n",
      "FOUND in 427 steps\n",
      "FOUND in 426 steps\n",
      "FOUND in 425 steps\n",
      "FOUND in 424 steps\n",
      "FOUND in 423 steps\n",
      "FOUND in 422 steps\n",
      "FOUND in 421 steps\n",
      "FOUND in 420 steps\n",
      "FOUND in 419 steps\n",
      "FOUND in 418 steps\n",
      "FOUND in 419 steps\n",
      "FOUND in 419 steps\n",
      "FOUND in 420 steps\n",
      "FOUND in 420 steps\n",
      "FOUND in 420 steps\n",
      "FOUND in 421 steps\n",
      "FOUND in 421 steps\n",
      "FOUND in 422 steps\n",
      "FOUND in 423 steps\n",
      "FOUND in 422 steps\n",
      "FOUND in 422 steps\n",
      "FOUND in 423 steps\n",
      "FOUND in 424 steps\n",
      "FOUND in 423 steps\n",
      "FOUND in 423 steps\n",
      "FOUND in 424 steps\n",
      "FOUND in 424 steps\n",
      "FOUND in 424 steps\n",
      "FOUND in 425 steps\n",
      "FOUND in 425 steps\n",
      "FOUND in 426 steps\n",
      "FOUND in 427 steps\n",
      "FOUND in 428 steps\n",
      "FOUND in 429 steps\n",
      "FOUND in 430 steps\n",
      "FOUND in 431 steps\n",
      "[445, 444, 443, 442, 441, 440, 439, 438, 437, 436, 435, 434, 433, 432, 431, 431, 430, 430, 429, 428, 427, 426, 425, 424, 423, 422, 421, 420, 419, 418, 419, 419, 420, 420, 420, 421, 421, 422, 423, 422, 422, 423, 424, 423, 423, 424, 424, 424, 425, 425, 426, 427, 428, 429, 430, 431]\n"
     ]
    },
    {
     "data": {
      "text/plain": [
       "418"
      ]
     },
     "execution_count": 243,
     "metadata": {},
     "output_type": "execute_result"
    }
   ],
   "source": [
    "\n",
    "run_the_algoritm()\n",
    "# part 2 was 418\n"
   ]
  },
  {
   "cell_type": "code",
   "execution_count": null,
   "id": "780a80f1",
   "metadata": {},
   "outputs": [],
   "source": []
  },
  {
   "cell_type": "code",
   "execution_count": null,
   "id": "3034b3df",
   "metadata": {},
   "outputs": [],
   "source": []
  }
 ],
 "metadata": {
  "kernelspec": {
   "display_name": "Python 3 (ipykernel)",
   "language": "python",
   "name": "python3"
  },
  "language_info": {
   "codemirror_mode": {
    "name": "ipython",
    "version": 3
   },
   "file_extension": ".py",
   "mimetype": "text/x-python",
   "name": "python",
   "nbconvert_exporter": "python",
   "pygments_lexer": "ipython3",
   "version": "3.9.7"
  }
 },
 "nbformat": 4,
 "nbformat_minor": 5
}
